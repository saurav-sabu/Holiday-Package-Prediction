{
 "cells": [
  {
   "cell_type": "markdown",
   "metadata": {},
   "source": [
    "# Feature Engineering & Modelling"
   ]
  },
  {
   "cell_type": "markdown",
   "metadata": {},
   "source": [
    "### Importing the necessary modules"
   ]
  },
  {
   "cell_type": "code",
   "execution_count": 1,
   "metadata": {},
   "outputs": [],
   "source": [
    "import pandas as pd\n",
    "import numpy as np\n",
    "import seaborn as sns\n",
    "import matplotlib.pyplot as plt\n",
    "\n",
    "import warnings\n",
    "warnings.filterwarnings('ignore')"
   ]
  },
  {
   "cell_type": "markdown",
   "metadata": {},
   "source": [
    "### Reading the Dataset"
   ]
  },
  {
   "cell_type": "code",
   "execution_count": 2,
   "metadata": {},
   "outputs": [],
   "source": [
    "df = pd.read_csv(r\"data/Travel.csv\")"
   ]
  },
  {
   "cell_type": "code",
   "execution_count": 3,
   "metadata": {},
   "outputs": [
    {
     "data": {
      "text/html": [
       "<div>\n",
       "<style scoped>\n",
       "    .dataframe tbody tr th:only-of-type {\n",
       "        vertical-align: middle;\n",
       "    }\n",
       "\n",
       "    .dataframe tbody tr th {\n",
       "        vertical-align: top;\n",
       "    }\n",
       "\n",
       "    .dataframe thead th {\n",
       "        text-align: right;\n",
       "    }\n",
       "</style>\n",
       "<table border=\"1\" class=\"dataframe\">\n",
       "  <thead>\n",
       "    <tr style=\"text-align: right;\">\n",
       "      <th></th>\n",
       "      <th>CustomerID</th>\n",
       "      <th>ProdTaken</th>\n",
       "      <th>Age</th>\n",
       "      <th>TypeofContact</th>\n",
       "      <th>CityTier</th>\n",
       "      <th>DurationOfPitch</th>\n",
       "      <th>Occupation</th>\n",
       "      <th>Gender</th>\n",
       "      <th>NumberOfPersonVisiting</th>\n",
       "      <th>NumberOfFollowups</th>\n",
       "      <th>ProductPitched</th>\n",
       "      <th>PreferredPropertyStar</th>\n",
       "      <th>MaritalStatus</th>\n",
       "      <th>NumberOfTrips</th>\n",
       "      <th>Passport</th>\n",
       "      <th>PitchSatisfactionScore</th>\n",
       "      <th>OwnCar</th>\n",
       "      <th>NumberOfChildrenVisiting</th>\n",
       "      <th>Designation</th>\n",
       "      <th>MonthlyIncome</th>\n",
       "    </tr>\n",
       "  </thead>\n",
       "  <tbody>\n",
       "    <tr>\n",
       "      <th>0</th>\n",
       "      <td>200000</td>\n",
       "      <td>1</td>\n",
       "      <td>41.0</td>\n",
       "      <td>Self Enquiry</td>\n",
       "      <td>3</td>\n",
       "      <td>6.0</td>\n",
       "      <td>Salaried</td>\n",
       "      <td>Female</td>\n",
       "      <td>3</td>\n",
       "      <td>3.0</td>\n",
       "      <td>Deluxe</td>\n",
       "      <td>3.0</td>\n",
       "      <td>Single</td>\n",
       "      <td>1.0</td>\n",
       "      <td>1</td>\n",
       "      <td>2</td>\n",
       "      <td>1</td>\n",
       "      <td>0.0</td>\n",
       "      <td>Manager</td>\n",
       "      <td>20993.0</td>\n",
       "    </tr>\n",
       "    <tr>\n",
       "      <th>1</th>\n",
       "      <td>200001</td>\n",
       "      <td>0</td>\n",
       "      <td>49.0</td>\n",
       "      <td>Company Invited</td>\n",
       "      <td>1</td>\n",
       "      <td>14.0</td>\n",
       "      <td>Salaried</td>\n",
       "      <td>Male</td>\n",
       "      <td>3</td>\n",
       "      <td>4.0</td>\n",
       "      <td>Deluxe</td>\n",
       "      <td>4.0</td>\n",
       "      <td>Divorced</td>\n",
       "      <td>2.0</td>\n",
       "      <td>0</td>\n",
       "      <td>3</td>\n",
       "      <td>1</td>\n",
       "      <td>2.0</td>\n",
       "      <td>Manager</td>\n",
       "      <td>20130.0</td>\n",
       "    </tr>\n",
       "    <tr>\n",
       "      <th>2</th>\n",
       "      <td>200002</td>\n",
       "      <td>1</td>\n",
       "      <td>37.0</td>\n",
       "      <td>Self Enquiry</td>\n",
       "      <td>1</td>\n",
       "      <td>8.0</td>\n",
       "      <td>Free Lancer</td>\n",
       "      <td>Male</td>\n",
       "      <td>3</td>\n",
       "      <td>4.0</td>\n",
       "      <td>Basic</td>\n",
       "      <td>3.0</td>\n",
       "      <td>Single</td>\n",
       "      <td>7.0</td>\n",
       "      <td>1</td>\n",
       "      <td>3</td>\n",
       "      <td>0</td>\n",
       "      <td>0.0</td>\n",
       "      <td>Executive</td>\n",
       "      <td>17090.0</td>\n",
       "    </tr>\n",
       "    <tr>\n",
       "      <th>3</th>\n",
       "      <td>200003</td>\n",
       "      <td>0</td>\n",
       "      <td>33.0</td>\n",
       "      <td>Company Invited</td>\n",
       "      <td>1</td>\n",
       "      <td>9.0</td>\n",
       "      <td>Salaried</td>\n",
       "      <td>Female</td>\n",
       "      <td>2</td>\n",
       "      <td>3.0</td>\n",
       "      <td>Basic</td>\n",
       "      <td>3.0</td>\n",
       "      <td>Divorced</td>\n",
       "      <td>2.0</td>\n",
       "      <td>1</td>\n",
       "      <td>5</td>\n",
       "      <td>1</td>\n",
       "      <td>1.0</td>\n",
       "      <td>Executive</td>\n",
       "      <td>17909.0</td>\n",
       "    </tr>\n",
       "    <tr>\n",
       "      <th>4</th>\n",
       "      <td>200004</td>\n",
       "      <td>0</td>\n",
       "      <td>NaN</td>\n",
       "      <td>Self Enquiry</td>\n",
       "      <td>1</td>\n",
       "      <td>8.0</td>\n",
       "      <td>Small Business</td>\n",
       "      <td>Male</td>\n",
       "      <td>2</td>\n",
       "      <td>3.0</td>\n",
       "      <td>Basic</td>\n",
       "      <td>4.0</td>\n",
       "      <td>Divorced</td>\n",
       "      <td>1.0</td>\n",
       "      <td>0</td>\n",
       "      <td>5</td>\n",
       "      <td>1</td>\n",
       "      <td>0.0</td>\n",
       "      <td>Executive</td>\n",
       "      <td>18468.0</td>\n",
       "    </tr>\n",
       "  </tbody>\n",
       "</table>\n",
       "</div>"
      ],
      "text/plain": [
       "   CustomerID  ProdTaken   Age    TypeofContact  CityTier  DurationOfPitch  \\\n",
       "0      200000          1  41.0     Self Enquiry         3              6.0   \n",
       "1      200001          0  49.0  Company Invited         1             14.0   \n",
       "2      200002          1  37.0     Self Enquiry         1              8.0   \n",
       "3      200003          0  33.0  Company Invited         1              9.0   \n",
       "4      200004          0   NaN     Self Enquiry         1              8.0   \n",
       "\n",
       "       Occupation  Gender  NumberOfPersonVisiting  NumberOfFollowups  \\\n",
       "0        Salaried  Female                       3                3.0   \n",
       "1        Salaried    Male                       3                4.0   \n",
       "2     Free Lancer    Male                       3                4.0   \n",
       "3        Salaried  Female                       2                3.0   \n",
       "4  Small Business    Male                       2                3.0   \n",
       "\n",
       "  ProductPitched  PreferredPropertyStar MaritalStatus  NumberOfTrips  \\\n",
       "0         Deluxe                    3.0        Single            1.0   \n",
       "1         Deluxe                    4.0      Divorced            2.0   \n",
       "2          Basic                    3.0        Single            7.0   \n",
       "3          Basic                    3.0      Divorced            2.0   \n",
       "4          Basic                    4.0      Divorced            1.0   \n",
       "\n",
       "   Passport  PitchSatisfactionScore  OwnCar  NumberOfChildrenVisiting  \\\n",
       "0         1                       2       1                       0.0   \n",
       "1         0                       3       1                       2.0   \n",
       "2         1                       3       0                       0.0   \n",
       "3         1                       5       1                       1.0   \n",
       "4         0                       5       1                       0.0   \n",
       "\n",
       "  Designation  MonthlyIncome  \n",
       "0     Manager        20993.0  \n",
       "1     Manager        20130.0  \n",
       "2   Executive        17090.0  \n",
       "3   Executive        17909.0  \n",
       "4   Executive        18468.0  "
      ]
     },
     "execution_count": 3,
     "metadata": {},
     "output_type": "execute_result"
    }
   ],
   "source": [
    "df.head()"
   ]
  },
  {
   "cell_type": "markdown",
   "metadata": {},
   "source": [
    "# Data Cleaning "
   ]
  },
  {
   "cell_type": "code",
   "execution_count": 4,
   "metadata": {},
   "outputs": [],
   "source": [
    "# Replace 'Fe Male' with 'Female' in the 'Gender' column\n",
    "df[\"Gender\"] = df[\"Gender\"].str.replace(\"Fe Male\",\"Female\")\n",
    " # Replace 'Single' with 'Unmarried' in the 'MaritalStatus' column\n",
    "df[\"MaritalStatus\"] = df[\"MaritalStatus\"].str.replace(\"Single\",\"Unmarried\")"
   ]
  },
  {
   "cell_type": "code",
   "execution_count": 5,
   "metadata": {},
   "outputs": [
    {
     "data": {
      "text/plain": [
       "Age                         4.623568\n",
       "TypeofContact               0.511457\n",
       "DurationOfPitch             5.135025\n",
       "NumberOfFollowups           0.920622\n",
       "PreferredPropertyStar       0.531915\n",
       "NumberOfTrips               2.864157\n",
       "NumberOfChildrenVisiting    1.350245\n",
       "MonthlyIncome               4.766776\n",
       "dtype: float64"
      ]
     },
     "execution_count": 5,
     "metadata": {},
     "output_type": "execute_result"
    }
   ],
   "source": [
    "# Filter columns where the percentage of missing values is greater than 0\n",
    "df.isna().mean()[df.isna().mean() * 100 > 0]*100"
   ]
  },
  {
   "cell_type": "code",
   "execution_count": 6,
   "metadata": {},
   "outputs": [
    {
     "data": {
      "text/plain": [
       "Index(['Age', 'TypeofContact', 'DurationOfPitch', 'NumberOfFollowups',\n",
       "       'PreferredPropertyStar', 'NumberOfTrips', 'NumberOfChildrenVisiting',\n",
       "       'MonthlyIncome'],\n",
       "      dtype='object')"
      ]
     },
     "execution_count": 6,
     "metadata": {},
     "output_type": "execute_result"
    }
   ],
   "source": [
    "# Filter columns where the percentage of missing values is greater than 0\n",
    "features_na = df.isna().mean()[df.isna().mean() * 100 > 0].index\n",
    "features_na"
   ]
  },
  {
   "cell_type": "code",
   "execution_count": 7,
   "metadata": {},
   "outputs": [
    {
     "data": {
      "text/html": [
       "<div>\n",
       "<style scoped>\n",
       "    .dataframe tbody tr th:only-of-type {\n",
       "        vertical-align: middle;\n",
       "    }\n",
       "\n",
       "    .dataframe tbody tr th {\n",
       "        vertical-align: top;\n",
       "    }\n",
       "\n",
       "    .dataframe thead th {\n",
       "        text-align: right;\n",
       "    }\n",
       "</style>\n",
       "<table border=\"1\" class=\"dataframe\">\n",
       "  <thead>\n",
       "    <tr style=\"text-align: right;\">\n",
       "      <th></th>\n",
       "      <th>Age</th>\n",
       "      <th>DurationOfPitch</th>\n",
       "      <th>NumberOfFollowups</th>\n",
       "      <th>PreferredPropertyStar</th>\n",
       "      <th>NumberOfTrips</th>\n",
       "      <th>NumberOfChildrenVisiting</th>\n",
       "      <th>MonthlyIncome</th>\n",
       "    </tr>\n",
       "  </thead>\n",
       "  <tbody>\n",
       "    <tr>\n",
       "      <th>count</th>\n",
       "      <td>4662.000000</td>\n",
       "      <td>4637.000000</td>\n",
       "      <td>4843.000000</td>\n",
       "      <td>4862.000000</td>\n",
       "      <td>4748.000000</td>\n",
       "      <td>4822.000000</td>\n",
       "      <td>4655.000000</td>\n",
       "    </tr>\n",
       "    <tr>\n",
       "      <th>mean</th>\n",
       "      <td>37.622265</td>\n",
       "      <td>15.490835</td>\n",
       "      <td>3.708445</td>\n",
       "      <td>3.581037</td>\n",
       "      <td>3.236521</td>\n",
       "      <td>1.187267</td>\n",
       "      <td>23619.853491</td>\n",
       "    </tr>\n",
       "    <tr>\n",
       "      <th>std</th>\n",
       "      <td>9.316387</td>\n",
       "      <td>8.519643</td>\n",
       "      <td>1.002509</td>\n",
       "      <td>0.798009</td>\n",
       "      <td>1.849019</td>\n",
       "      <td>0.857861</td>\n",
       "      <td>5380.698361</td>\n",
       "    </tr>\n",
       "    <tr>\n",
       "      <th>min</th>\n",
       "      <td>18.000000</td>\n",
       "      <td>5.000000</td>\n",
       "      <td>1.000000</td>\n",
       "      <td>3.000000</td>\n",
       "      <td>1.000000</td>\n",
       "      <td>0.000000</td>\n",
       "      <td>1000.000000</td>\n",
       "    </tr>\n",
       "    <tr>\n",
       "      <th>25%</th>\n",
       "      <td>31.000000</td>\n",
       "      <td>9.000000</td>\n",
       "      <td>3.000000</td>\n",
       "      <td>3.000000</td>\n",
       "      <td>2.000000</td>\n",
       "      <td>1.000000</td>\n",
       "      <td>20346.000000</td>\n",
       "    </tr>\n",
       "    <tr>\n",
       "      <th>50%</th>\n",
       "      <td>36.000000</td>\n",
       "      <td>13.000000</td>\n",
       "      <td>4.000000</td>\n",
       "      <td>3.000000</td>\n",
       "      <td>3.000000</td>\n",
       "      <td>1.000000</td>\n",
       "      <td>22347.000000</td>\n",
       "    </tr>\n",
       "    <tr>\n",
       "      <th>75%</th>\n",
       "      <td>44.000000</td>\n",
       "      <td>20.000000</td>\n",
       "      <td>4.000000</td>\n",
       "      <td>4.000000</td>\n",
       "      <td>4.000000</td>\n",
       "      <td>2.000000</td>\n",
       "      <td>25571.000000</td>\n",
       "    </tr>\n",
       "    <tr>\n",
       "      <th>max</th>\n",
       "      <td>61.000000</td>\n",
       "      <td>127.000000</td>\n",
       "      <td>6.000000</td>\n",
       "      <td>5.000000</td>\n",
       "      <td>22.000000</td>\n",
       "      <td>3.000000</td>\n",
       "      <td>98678.000000</td>\n",
       "    </tr>\n",
       "  </tbody>\n",
       "</table>\n",
       "</div>"
      ],
      "text/plain": [
       "               Age  DurationOfPitch  NumberOfFollowups  PreferredPropertyStar  \\\n",
       "count  4662.000000      4637.000000        4843.000000            4862.000000   \n",
       "mean     37.622265        15.490835           3.708445               3.581037   \n",
       "std       9.316387         8.519643           1.002509               0.798009   \n",
       "min      18.000000         5.000000           1.000000               3.000000   \n",
       "25%      31.000000         9.000000           3.000000               3.000000   \n",
       "50%      36.000000        13.000000           4.000000               3.000000   \n",
       "75%      44.000000        20.000000           4.000000               4.000000   \n",
       "max      61.000000       127.000000           6.000000               5.000000   \n",
       "\n",
       "       NumberOfTrips  NumberOfChildrenVisiting  MonthlyIncome  \n",
       "count    4748.000000               4822.000000    4655.000000  \n",
       "mean        3.236521                  1.187267   23619.853491  \n",
       "std         1.849019                  0.857861    5380.698361  \n",
       "min         1.000000                  0.000000    1000.000000  \n",
       "25%         2.000000                  1.000000   20346.000000  \n",
       "50%         3.000000                  1.000000   22347.000000  \n",
       "75%         4.000000                  2.000000   25571.000000  \n",
       "max        22.000000                  3.000000   98678.000000  "
      ]
     },
     "execution_count": 7,
     "metadata": {},
     "output_type": "execute_result"
    }
   ],
   "source": [
    "df[features_na].describe()"
   ]
  },
  {
   "cell_type": "code",
   "execution_count": 8,
   "metadata": {},
   "outputs": [],
   "source": [
    "# Fill missing values in 'Age' column with the median age\n",
    "df[\"Age\"].fillna(df[\"Age\"].median(),inplace=True)\n",
    "\n",
    "# Fill missing values in 'DurationOfPitch' column with the median duration of pitch\n",
    "df[\"DurationOfPitch\"].fillna(df[\"DurationOfPitch\"].median(),inplace=True)\n",
    "\n",
    "# Fill missing values in 'TypeofContact' column with the most frequent type of contact\n",
    "df[\"TypeofContact\"].fillna(df[\"TypeofContact\"].mode()[0],inplace=True)\n",
    "\n",
    "# Fill missing values in 'NumberOfFollowups' column with the most frequent number of follow-ups\n",
    "df[\"NumberOfFollowups\"].fillna(df[\"NumberOfFollowups\"].mode()[0],inplace=True)\n",
    "\n",
    "# Fill missing values in 'PreferredPropertyStar' column with the most frequent property star rating\n",
    "df[\"PreferredPropertyStar\"].fillna(df[\"PreferredPropertyStar\"].mode()[0],inplace=True)\n",
    "\n",
    "# Fill missing values in 'NumberOfTrips' column with the median number of trips\n",
    "df[\"NumberOfTrips\"].fillna(df[\"NumberOfTrips\"].median(),inplace=True)\n",
    "\n",
    "# Fill missing values in 'NumberOfChildrenVisiting' column with the most frequent number of children visiting\n",
    "df[\"NumberOfChildrenVisiting\"].fillna(df[\"NumberOfChildrenVisiting\"].mode()[0],inplace=True)\n",
    "\n",
    "# Fill missing values in 'MonthlyIncome' column with the median monthly income\n",
    "df[\"MonthlyIncome\"].fillna(df[\"MonthlyIncome\"].median(),inplace=True)"
   ]
  },
  {
   "cell_type": "code",
   "execution_count": 9,
   "metadata": {},
   "outputs": [
    {
     "data": {
      "text/plain": [
       "CustomerID                  0\n",
       "ProdTaken                   0\n",
       "Age                         0\n",
       "TypeofContact               0\n",
       "CityTier                    0\n",
       "DurationOfPitch             0\n",
       "Occupation                  0\n",
       "Gender                      0\n",
       "NumberOfPersonVisiting      0\n",
       "NumberOfFollowups           0\n",
       "ProductPitched              0\n",
       "PreferredPropertyStar       0\n",
       "MaritalStatus               0\n",
       "NumberOfTrips               0\n",
       "Passport                    0\n",
       "PitchSatisfactionScore      0\n",
       "OwnCar                      0\n",
       "NumberOfChildrenVisiting    0\n",
       "Designation                 0\n",
       "MonthlyIncome               0\n",
       "dtype: int64"
      ]
     },
     "execution_count": 9,
     "metadata": {},
     "output_type": "execute_result"
    }
   ],
   "source": [
    "# Again checking the missing values\n",
    "df.isna().sum()"
   ]
  },
  {
   "cell_type": "code",
   "execution_count": 10,
   "metadata": {},
   "outputs": [],
   "source": [
    "# Drop the 'CustomerID' column from the DataFrame\n",
    "df.drop(\"CustomerID\",axis=1,inplace=True)\n",
    "\n",
    "# Drop the 'Gender' column from the DataFrame\n",
    "df.drop(\"Gender\",axis=1,inplace=True)"
   ]
  },
  {
   "cell_type": "code",
   "execution_count": 11,
   "metadata": {},
   "outputs": [
    {
     "data": {
      "text/html": [
       "<div>\n",
       "<style scoped>\n",
       "    .dataframe tbody tr th:only-of-type {\n",
       "        vertical-align: middle;\n",
       "    }\n",
       "\n",
       "    .dataframe tbody tr th {\n",
       "        vertical-align: top;\n",
       "    }\n",
       "\n",
       "    .dataframe thead th {\n",
       "        text-align: right;\n",
       "    }\n",
       "</style>\n",
       "<table border=\"1\" class=\"dataframe\">\n",
       "  <thead>\n",
       "    <tr style=\"text-align: right;\">\n",
       "      <th></th>\n",
       "      <th>ProdTaken</th>\n",
       "      <th>Age</th>\n",
       "      <th>TypeofContact</th>\n",
       "      <th>CityTier</th>\n",
       "      <th>DurationOfPitch</th>\n",
       "      <th>Occupation</th>\n",
       "      <th>NumberOfPersonVisiting</th>\n",
       "      <th>NumberOfFollowups</th>\n",
       "      <th>ProductPitched</th>\n",
       "      <th>PreferredPropertyStar</th>\n",
       "      <th>MaritalStatus</th>\n",
       "      <th>NumberOfTrips</th>\n",
       "      <th>Passport</th>\n",
       "      <th>PitchSatisfactionScore</th>\n",
       "      <th>OwnCar</th>\n",
       "      <th>NumberOfChildrenVisiting</th>\n",
       "      <th>Designation</th>\n",
       "      <th>MonthlyIncome</th>\n",
       "    </tr>\n",
       "  </thead>\n",
       "  <tbody>\n",
       "    <tr>\n",
       "      <th>0</th>\n",
       "      <td>1</td>\n",
       "      <td>41.0</td>\n",
       "      <td>Self Enquiry</td>\n",
       "      <td>3</td>\n",
       "      <td>6.0</td>\n",
       "      <td>Salaried</td>\n",
       "      <td>3</td>\n",
       "      <td>3.0</td>\n",
       "      <td>Deluxe</td>\n",
       "      <td>3.0</td>\n",
       "      <td>Unmarried</td>\n",
       "      <td>1.0</td>\n",
       "      <td>1</td>\n",
       "      <td>2</td>\n",
       "      <td>1</td>\n",
       "      <td>0.0</td>\n",
       "      <td>Manager</td>\n",
       "      <td>20993.0</td>\n",
       "    </tr>\n",
       "    <tr>\n",
       "      <th>1</th>\n",
       "      <td>0</td>\n",
       "      <td>49.0</td>\n",
       "      <td>Company Invited</td>\n",
       "      <td>1</td>\n",
       "      <td>14.0</td>\n",
       "      <td>Salaried</td>\n",
       "      <td>3</td>\n",
       "      <td>4.0</td>\n",
       "      <td>Deluxe</td>\n",
       "      <td>4.0</td>\n",
       "      <td>Divorced</td>\n",
       "      <td>2.0</td>\n",
       "      <td>0</td>\n",
       "      <td>3</td>\n",
       "      <td>1</td>\n",
       "      <td>2.0</td>\n",
       "      <td>Manager</td>\n",
       "      <td>20130.0</td>\n",
       "    </tr>\n",
       "    <tr>\n",
       "      <th>2</th>\n",
       "      <td>1</td>\n",
       "      <td>37.0</td>\n",
       "      <td>Self Enquiry</td>\n",
       "      <td>1</td>\n",
       "      <td>8.0</td>\n",
       "      <td>Free Lancer</td>\n",
       "      <td>3</td>\n",
       "      <td>4.0</td>\n",
       "      <td>Basic</td>\n",
       "      <td>3.0</td>\n",
       "      <td>Unmarried</td>\n",
       "      <td>7.0</td>\n",
       "      <td>1</td>\n",
       "      <td>3</td>\n",
       "      <td>0</td>\n",
       "      <td>0.0</td>\n",
       "      <td>Executive</td>\n",
       "      <td>17090.0</td>\n",
       "    </tr>\n",
       "    <tr>\n",
       "      <th>3</th>\n",
       "      <td>0</td>\n",
       "      <td>33.0</td>\n",
       "      <td>Company Invited</td>\n",
       "      <td>1</td>\n",
       "      <td>9.0</td>\n",
       "      <td>Salaried</td>\n",
       "      <td>2</td>\n",
       "      <td>3.0</td>\n",
       "      <td>Basic</td>\n",
       "      <td>3.0</td>\n",
       "      <td>Divorced</td>\n",
       "      <td>2.0</td>\n",
       "      <td>1</td>\n",
       "      <td>5</td>\n",
       "      <td>1</td>\n",
       "      <td>1.0</td>\n",
       "      <td>Executive</td>\n",
       "      <td>17909.0</td>\n",
       "    </tr>\n",
       "    <tr>\n",
       "      <th>4</th>\n",
       "      <td>0</td>\n",
       "      <td>36.0</td>\n",
       "      <td>Self Enquiry</td>\n",
       "      <td>1</td>\n",
       "      <td>8.0</td>\n",
       "      <td>Small Business</td>\n",
       "      <td>2</td>\n",
       "      <td>3.0</td>\n",
       "      <td>Basic</td>\n",
       "      <td>4.0</td>\n",
       "      <td>Divorced</td>\n",
       "      <td>1.0</td>\n",
       "      <td>0</td>\n",
       "      <td>5</td>\n",
       "      <td>1</td>\n",
       "      <td>0.0</td>\n",
       "      <td>Executive</td>\n",
       "      <td>18468.0</td>\n",
       "    </tr>\n",
       "  </tbody>\n",
       "</table>\n",
       "</div>"
      ],
      "text/plain": [
       "   ProdTaken   Age    TypeofContact  CityTier  DurationOfPitch  \\\n",
       "0          1  41.0     Self Enquiry         3              6.0   \n",
       "1          0  49.0  Company Invited         1             14.0   \n",
       "2          1  37.0     Self Enquiry         1              8.0   \n",
       "3          0  33.0  Company Invited         1              9.0   \n",
       "4          0  36.0     Self Enquiry         1              8.0   \n",
       "\n",
       "       Occupation  NumberOfPersonVisiting  NumberOfFollowups ProductPitched  \\\n",
       "0        Salaried                       3                3.0         Deluxe   \n",
       "1        Salaried                       3                4.0         Deluxe   \n",
       "2     Free Lancer                       3                4.0          Basic   \n",
       "3        Salaried                       2                3.0          Basic   \n",
       "4  Small Business                       2                3.0          Basic   \n",
       "\n",
       "   PreferredPropertyStar MaritalStatus  NumberOfTrips  Passport  \\\n",
       "0                    3.0     Unmarried            1.0         1   \n",
       "1                    4.0      Divorced            2.0         0   \n",
       "2                    3.0     Unmarried            7.0         1   \n",
       "3                    3.0      Divorced            2.0         1   \n",
       "4                    4.0      Divorced            1.0         0   \n",
       "\n",
       "   PitchSatisfactionScore  OwnCar  NumberOfChildrenVisiting Designation  \\\n",
       "0                       2       1                       0.0     Manager   \n",
       "1                       3       1                       2.0     Manager   \n",
       "2                       3       0                       0.0   Executive   \n",
       "3                       5       1                       1.0   Executive   \n",
       "4                       5       1                       0.0   Executive   \n",
       "\n",
       "   MonthlyIncome  \n",
       "0        20993.0  \n",
       "1        20130.0  \n",
       "2        17090.0  \n",
       "3        17909.0  \n",
       "4        18468.0  "
      ]
     },
     "execution_count": 11,
     "metadata": {},
     "output_type": "execute_result"
    }
   ],
   "source": [
    "df.head()"
   ]
  },
  {
   "cell_type": "markdown",
   "metadata": {},
   "source": [
    "# Feature Engineering"
   ]
  },
  {
   "cell_type": "code",
   "execution_count": 12,
   "metadata": {},
   "outputs": [],
   "source": [
    "# Create a new column 'TotalVisiting' by summing 'NumberOfPersonVisiting' and 'NumberOfChildrenVisiting'\n",
    "df[\"TotalVisiting\"] = df[\"NumberOfPersonVisiting\"] + df[\"NumberOfChildrenVisiting\"]\n",
    "\n",
    "# Drop the 'NumberOfPersonVisiting' and 'NumberOfChildrenVisiting' columns from the DataFrame\n",
    "df.drop(columns= [\"NumberOfPersonVisiting\",\"NumberOfChildrenVisiting\"],axis=1,inplace=True)"
   ]
  },
  {
   "cell_type": "markdown",
   "metadata": {},
   "source": [
    "# Types Of Features"
   ]
  },
  {
   "cell_type": "code",
   "execution_count": 13,
   "metadata": {},
   "outputs": [
    {
     "data": {
      "text/plain": [
       "12"
      ]
     },
     "execution_count": 13,
     "metadata": {},
     "output_type": "execute_result"
    }
   ],
   "source": [
    "numeric_features = df.select_dtypes(exclude=\"object\").columns\n",
    "len(numeric_features)"
   ]
  },
  {
   "cell_type": "code",
   "execution_count": 14,
   "metadata": {},
   "outputs": [
    {
     "data": {
      "text/plain": [
       "5"
      ]
     },
     "execution_count": 14,
     "metadata": {},
     "output_type": "execute_result"
    }
   ],
   "source": [
    "categorical_features = df.select_dtypes(include=\"object\").columns\n",
    "len(categorical_features)"
   ]
  },
  {
   "cell_type": "code",
   "execution_count": 15,
   "metadata": {},
   "outputs": [
    {
     "data": {
      "text/plain": [
       "9"
      ]
     },
     "execution_count": 15,
     "metadata": {},
     "output_type": "execute_result"
    }
   ],
   "source": [
    "discrete_features = [feature for feature in numeric_features if df[feature].nunique() <=25]\n",
    "len(discrete_features)"
   ]
  },
  {
   "cell_type": "code",
   "execution_count": 16,
   "metadata": {},
   "outputs": [
    {
     "data": {
      "text/plain": [
       "3"
      ]
     },
     "execution_count": 16,
     "metadata": {},
     "output_type": "execute_result"
    }
   ],
   "source": [
    "continuous_features = [feature for feature in numeric_features if feature not in discrete_features]\n",
    "len(continuous_features)"
   ]
  },
  {
   "cell_type": "markdown",
   "metadata": {},
   "source": [
    "# Multicollinearity"
   ]
  },
  {
   "cell_type": "code",
   "execution_count": 17,
   "metadata": {},
   "outputs": [],
   "source": [
    "from statsmodels.stats.outliers_influence import variance_inflation_factor\n",
    "\n",
    "def compute_vif(features,df):\n",
    "\n",
    "    X = df[features]\n",
    "    X[\"intercept\"] = 1\n",
    "\n",
    "    vif = pd.DataFrame()\n",
    "    vif[\"variable\"] = X.columns\n",
    "    vif[\"VIF\"] = [variance_inflation_factor(X.values,i) for i in range(X.shape[1])]\n",
    "    vif = vif[vif[\"variable\"]!=\"intercept\"]\n",
    "\n",
    "    return vif"
   ]
  },
  {
   "cell_type": "code",
   "execution_count": 18,
   "metadata": {},
   "outputs": [
    {
     "data": {
      "text/html": [
       "<div>\n",
       "<style scoped>\n",
       "    .dataframe tbody tr th:only-of-type {\n",
       "        vertical-align: middle;\n",
       "    }\n",
       "\n",
       "    .dataframe tbody tr th {\n",
       "        vertical-align: top;\n",
       "    }\n",
       "\n",
       "    .dataframe thead th {\n",
       "        text-align: right;\n",
       "    }\n",
       "</style>\n",
       "<table border=\"1\" class=\"dataframe\">\n",
       "  <thead>\n",
       "    <tr style=\"text-align: right;\">\n",
       "      <th></th>\n",
       "      <th>variable</th>\n",
       "      <th>VIF</th>\n",
       "    </tr>\n",
       "  </thead>\n",
       "  <tbody>\n",
       "    <tr>\n",
       "      <th>0</th>\n",
       "      <td>ProdTaken</td>\n",
       "      <td>1.160838</td>\n",
       "    </tr>\n",
       "    <tr>\n",
       "      <th>1</th>\n",
       "      <td>Age</td>\n",
       "      <td>1.341054</td>\n",
       "    </tr>\n",
       "    <tr>\n",
       "      <th>2</th>\n",
       "      <td>CityTier</td>\n",
       "      <td>1.017752</td>\n",
       "    </tr>\n",
       "    <tr>\n",
       "      <th>3</th>\n",
       "      <td>DurationOfPitch</td>\n",
       "      <td>1.010338</td>\n",
       "    </tr>\n",
       "    <tr>\n",
       "      <th>4</th>\n",
       "      <td>NumberOfFollowups</td>\n",
       "      <td>1.176851</td>\n",
       "    </tr>\n",
       "    <tr>\n",
       "      <th>5</th>\n",
       "      <td>PreferredPropertyStar</td>\n",
       "      <td>1.016609</td>\n",
       "    </tr>\n",
       "    <tr>\n",
       "      <th>6</th>\n",
       "      <td>NumberOfTrips</td>\n",
       "      <td>1.082175</td>\n",
       "    </tr>\n",
       "    <tr>\n",
       "      <th>7</th>\n",
       "      <td>Passport</td>\n",
       "      <td>1.082711</td>\n",
       "    </tr>\n",
       "    <tr>\n",
       "      <th>8</th>\n",
       "      <td>PitchSatisfactionScore</td>\n",
       "      <td>1.012607</td>\n",
       "    </tr>\n",
       "    <tr>\n",
       "      <th>9</th>\n",
       "      <td>OwnCar</td>\n",
       "      <td>1.012319</td>\n",
       "    </tr>\n",
       "    <tr>\n",
       "      <th>10</th>\n",
       "      <td>MonthlyIncome</td>\n",
       "      <td>1.393252</td>\n",
       "    </tr>\n",
       "    <tr>\n",
       "      <th>11</th>\n",
       "      <td>TotalVisiting</td>\n",
       "      <td>1.206045</td>\n",
       "    </tr>\n",
       "  </tbody>\n",
       "</table>\n",
       "</div>"
      ],
      "text/plain": [
       "                  variable       VIF\n",
       "0                ProdTaken  1.160838\n",
       "1                      Age  1.341054\n",
       "2                 CityTier  1.017752\n",
       "3          DurationOfPitch  1.010338\n",
       "4        NumberOfFollowups  1.176851\n",
       "5    PreferredPropertyStar  1.016609\n",
       "6            NumberOfTrips  1.082175\n",
       "7                 Passport  1.082711\n",
       "8   PitchSatisfactionScore  1.012607\n",
       "9                   OwnCar  1.012319\n",
       "10           MonthlyIncome  1.393252\n",
       "11           TotalVisiting  1.206045"
      ]
     },
     "execution_count": 18,
     "metadata": {},
     "output_type": "execute_result"
    }
   ],
   "source": [
    "compute_vif(numeric_features,df)"
   ]
  },
  {
   "cell_type": "code",
   "execution_count": 19,
   "metadata": {},
   "outputs": [
    {
     "data": {
      "text/html": [
       "<div>\n",
       "<style scoped>\n",
       "    .dataframe tbody tr th:only-of-type {\n",
       "        vertical-align: middle;\n",
       "    }\n",
       "\n",
       "    .dataframe tbody tr th {\n",
       "        vertical-align: top;\n",
       "    }\n",
       "\n",
       "    .dataframe thead th {\n",
       "        text-align: right;\n",
       "    }\n",
       "</style>\n",
       "<table border=\"1\" class=\"dataframe\">\n",
       "  <thead>\n",
       "    <tr style=\"text-align: right;\">\n",
       "      <th></th>\n",
       "      <th>Column</th>\n",
       "      <th>Hypothesis Result</th>\n",
       "    </tr>\n",
       "  </thead>\n",
       "  <tbody>\n",
       "    <tr>\n",
       "      <th>0</th>\n",
       "      <td>TypeofContact</td>\n",
       "      <td>Reject Null Hypothesis</td>\n",
       "    </tr>\n",
       "    <tr>\n",
       "      <th>1</th>\n",
       "      <td>Occupation</td>\n",
       "      <td>Reject Null Hypothesis</td>\n",
       "    </tr>\n",
       "    <tr>\n",
       "      <th>2</th>\n",
       "      <td>ProductPitched</td>\n",
       "      <td>Reject Null Hypothesis</td>\n",
       "    </tr>\n",
       "    <tr>\n",
       "      <th>3</th>\n",
       "      <td>MaritalStatus</td>\n",
       "      <td>Reject Null Hypothesis</td>\n",
       "    </tr>\n",
       "    <tr>\n",
       "      <th>4</th>\n",
       "      <td>Designation</td>\n",
       "      <td>Reject Null Hypothesis</td>\n",
       "    </tr>\n",
       "  </tbody>\n",
       "</table>\n",
       "</div>"
      ],
      "text/plain": [
       "           Column       Hypothesis Result\n",
       "0   TypeofContact  Reject Null Hypothesis\n",
       "1      Occupation  Reject Null Hypothesis\n",
       "2  ProductPitched  Reject Null Hypothesis\n",
       "3   MaritalStatus  Reject Null Hypothesis\n",
       "4     Designation  Reject Null Hypothesis"
      ]
     },
     "execution_count": 19,
     "metadata": {},
     "output_type": "execute_result"
    }
   ],
   "source": [
    "from scipy.stats import chi2_contingency\n",
    "chi2_test = []\n",
    "for feature in categorical_features:\n",
    "    if chi2_contingency(pd.crosstab(df['ProdTaken'], df[feature]))[1] < 0.05:\n",
    "        chi2_test.append('Reject Null Hypothesis')\n",
    "    else:\n",
    "        chi2_test.append('Fail to Reject Null Hypothesis')\n",
    "result = pd.DataFrame(data=[categorical_features, chi2_test]).T\n",
    "result.columns = ['Column', 'Hypothesis Result']\n",
    "result"
   ]
  },
  {
   "cell_type": "markdown",
   "metadata": {},
   "source": [
    "# Outlier Handling"
   ]
  },
  {
   "cell_type": "code",
   "execution_count": 20,
   "metadata": {},
   "outputs": [
    {
     "data": {
      "text/plain": [
       "['Age', 'DurationOfPitch', 'MonthlyIncome']"
      ]
     },
     "execution_count": 20,
     "metadata": {},
     "output_type": "execute_result"
    }
   ],
   "source": [
    "continuous_features"
   ]
  },
  {
   "cell_type": "code",
   "execution_count": 21,
   "metadata": {},
   "outputs": [
    {
     "data": {
      "image/png": "[encoded data removed]",
      "text/plain": [
       "<Figure size 640x480 with 1 Axes>"
      ]
     },
     "metadata": {},
     "output_type": "display_data"
    },
    {
     "data": {
      "image/png": "[encoded data removed]",
      "text/plain": [
       "<Figure size 640x480 with 1 Axes>"
      ]
     },
     "metadata": {},
     "output_type": "display_data"
    },
    {
     "data": {
      "image/png": "[encoded data removed]",
      "text/plain": [
       "<Figure size 640x480 with 1 Axes>"
      ]
     },
     "metadata": {},
     "output_type": "display_data"
    }
   ],
   "source": [
    "for feature in continuous_features:\n",
    "    sns.boxplot(df[feature])\n",
    "    plt.show()"
   ]
  },
  {
   "cell_type": "code",
   "execution_count": 22,
   "metadata": {},
   "outputs": [],
   "source": [
    "def detect_outliers(col):\n",
    "\n",
    "    percent25 = df[col].quantile(0.25)\n",
    "    percent75 = df[col].quantile(0.75)\n",
    "\n",
    "    iqr = percent75 - percent25\n",
    "\n",
    "    upper_limit = percent75 + 1.5 * iqr\n",
    "    lower_limit = percent25 - 1.5 * iqr\n",
    "\n",
    "    print(f\"#### {col} ####\")\n",
    "    print(\"Upper Limit\",upper_limit)\n",
    "    print(\"Lower Limit\",lower_limit)\n",
    "\n",
    "    df.loc[(df[col]>upper_limit),col] = upper_limit\n",
    "    df.loc[(df[col]<lower_limit),col] = lower_limit\n",
    "\n",
    "    return df"
   ]
  },
  {
   "cell_type": "code",
   "execution_count": 23,
   "metadata": {},
   "outputs": [
    {
     "name": "stdout",
     "output_type": "stream",
     "text": [
      "#### Age ####\n",
      "Upper Limit 61.0\n",
      "Lower Limit 13.0\n",
      "#### DurationOfPitch ####\n",
      "Upper Limit 34.0\n",
      "Lower Limit -6.0\n",
      "#### MonthlyIncome ####\n",
      "Upper Limit 32834.375\n",
      "Lower Limit 13075.375\n"
     ]
    }
   ],
   "source": [
    "for col in continuous_features:\n",
    "    detect_outliers(col)"
   ]
  },
  {
   "cell_type": "markdown",
   "metadata": {},
   "source": [
    "# Data Transformations"
   ]
  },
  {
   "cell_type": "code",
   "execution_count": 24,
   "metadata": {},
   "outputs": [
    {
     "data": {
      "text/plain": [
       "Age                0.415796\n",
       "DurationOfPitch    0.942638\n",
       "MonthlyIncome      0.726163\n",
       "dtype: float64"
      ]
     },
     "execution_count": 24,
     "metadata": {},
     "output_type": "execute_result"
    }
   ],
   "source": [
    "df[continuous_features].skew()"
   ]
  },
  {
   "cell_type": "code",
   "execution_count": 25,
   "metadata": {},
   "outputs": [
    {
     "data": {
      "image/png": "[encoded data removed]",
      "text/plain": [
       "<Figure size 640x480 with 1 Axes>"
      ]
     },
     "metadata": {},
     "output_type": "display_data"
    },
    {
     "data": {
      "image/png": "[encoded data removed]",
      "text/plain": [
       "<Figure size 640x480 with 1 Axes>"
      ]
     },
     "metadata": {},
     "output_type": "display_data"
    },
    {
     "data": {
      "image/png": "[encoded data removed]",
      "text/plain": [
       "<Figure size 640x480 with 1 Axes>"
      ]
     },
     "metadata": {},
     "output_type": "display_data"
    }
   ],
   "source": [
    "for i in continuous_features:\n",
    "    sns.kdeplot(df[i])\n",
    "    plt.show()"
   ]
  },
  {
   "cell_type": "code",
   "execution_count": 26,
   "metadata": {},
   "outputs": [],
   "source": [
    "# Apply natural logarithm transformation to 'DurationOfPitch' and 'MonthlyIncome' columns\n",
    "df[[\"DurationOfPitch\",\"MonthlyIncome\"]] = np.log(df[[\"DurationOfPitch\",\"MonthlyIncome\"]] )"
   ]
  },
  {
   "cell_type": "code",
   "execution_count": 27,
   "metadata": {},
   "outputs": [
    {
     "data": {
      "image/png": "[encoded data removed]",
      "text/plain": [
       "<Figure size 640x480 with 1 Axes>"
      ]
     },
     "metadata": {},
     "output_type": "display_data"
    },
    {
     "data": {
      "image/png": "[encoded data removed]",
      "text/plain": [
       "<Figure size 640x480 with 1 Axes>"
      ]
     },
     "metadata": {},
     "output_type": "display_data"
    },
    {
     "data": {
      "image/png": "[encoded data removed]",
      "text/plain": [
       "<Figure size 640x480 with 1 Axes>"
      ]
     },
     "metadata": {},
     "output_type": "display_data"
    }
   ],
   "source": [
    "for i in continuous_features:\n",
    "    sns.kdeplot(df[i])\n",
    "    plt.show()"
   ]
  },
  {
   "cell_type": "markdown",
   "metadata": {},
   "source": [
    "# Export Data To CSV"
   ]
  },
  {
   "cell_type": "code",
   "execution_count": 28,
   "metadata": {},
   "outputs": [],
   "source": [
    "df.to_csv(\"data/cleaned_travel_data.csv\",index=False)"
   ]
  },
  {
   "cell_type": "markdown",
   "metadata": {},
   "source": [
    "# Split X & y"
   ]
  },
  {
   "cell_type": "code",
   "execution_count": 29,
   "metadata": {},
   "outputs": [],
   "source": [
    "# Create feature matrix 'X' by dropping the 'ProdTaken' column from the DataFrame\n",
    "X = df.drop(\"ProdTaken\",axis=1)\n",
    "\n",
    "# Create target vector 'y' containing the 'ProdTaken' column from the DataFrame\n",
    "y = df[\"ProdTaken\"]"
   ]
  },
  {
   "cell_type": "code",
   "execution_count": 30,
   "metadata": {},
   "outputs": [
    {
     "data": {
      "text/html": [
       "<div>\n",
       "<style scoped>\n",
       "    .dataframe tbody tr th:only-of-type {\n",
       "        vertical-align: middle;\n",
       "    }\n",
       "\n",
       "    .dataframe tbody tr th {\n",
       "        vertical-align: top;\n",
       "    }\n",
       "\n",
       "    .dataframe thead th {\n",
       "        text-align: right;\n",
       "    }\n",
       "</style>\n",
       "<table border=\"1\" class=\"dataframe\">\n",
       "  <thead>\n",
       "    <tr style=\"text-align: right;\">\n",
       "      <th></th>\n",
       "      <th>Age</th>\n",
       "      <th>TypeofContact</th>\n",
       "      <th>CityTier</th>\n",
       "      <th>DurationOfPitch</th>\n",
       "      <th>Occupation</th>\n",
       "      <th>NumberOfFollowups</th>\n",
       "      <th>ProductPitched</th>\n",
       "      <th>PreferredPropertyStar</th>\n",
       "      <th>MaritalStatus</th>\n",
       "      <th>NumberOfTrips</th>\n",
       "      <th>Passport</th>\n",
       "      <th>PitchSatisfactionScore</th>\n",
       "      <th>OwnCar</th>\n",
       "      <th>Designation</th>\n",
       "      <th>MonthlyIncome</th>\n",
       "      <th>TotalVisiting</th>\n",
       "    </tr>\n",
       "  </thead>\n",
       "  <tbody>\n",
       "    <tr>\n",
       "      <th>0</th>\n",
       "      <td>41.0</td>\n",
       "      <td>Self Enquiry</td>\n",
       "      <td>3</td>\n",
       "      <td>1.791759</td>\n",
       "      <td>Salaried</td>\n",
       "      <td>3.0</td>\n",
       "      <td>Deluxe</td>\n",
       "      <td>3.0</td>\n",
       "      <td>Unmarried</td>\n",
       "      <td>1.0</td>\n",
       "      <td>1</td>\n",
       "      <td>2</td>\n",
       "      <td>1</td>\n",
       "      <td>Manager</td>\n",
       "      <td>9.951944</td>\n",
       "      <td>3.0</td>\n",
       "    </tr>\n",
       "    <tr>\n",
       "      <th>1</th>\n",
       "      <td>49.0</td>\n",
       "      <td>Company Invited</td>\n",
       "      <td>1</td>\n",
       "      <td>2.639057</td>\n",
       "      <td>Salaried</td>\n",
       "      <td>4.0</td>\n",
       "      <td>Deluxe</td>\n",
       "      <td>4.0</td>\n",
       "      <td>Divorced</td>\n",
       "      <td>2.0</td>\n",
       "      <td>0</td>\n",
       "      <td>3</td>\n",
       "      <td>1</td>\n",
       "      <td>Manager</td>\n",
       "      <td>9.909967</td>\n",
       "      <td>5.0</td>\n",
       "    </tr>\n",
       "    <tr>\n",
       "      <th>2</th>\n",
       "      <td>37.0</td>\n",
       "      <td>Self Enquiry</td>\n",
       "      <td>1</td>\n",
       "      <td>2.079442</td>\n",
       "      <td>Free Lancer</td>\n",
       "      <td>4.0</td>\n",
       "      <td>Basic</td>\n",
       "      <td>3.0</td>\n",
       "      <td>Unmarried</td>\n",
       "      <td>7.0</td>\n",
       "      <td>1</td>\n",
       "      <td>3</td>\n",
       "      <td>0</td>\n",
       "      <td>Executive</td>\n",
       "      <td>9.746249</td>\n",
       "      <td>3.0</td>\n",
       "    </tr>\n",
       "    <tr>\n",
       "      <th>3</th>\n",
       "      <td>33.0</td>\n",
       "      <td>Company Invited</td>\n",
       "      <td>1</td>\n",
       "      <td>2.197225</td>\n",
       "      <td>Salaried</td>\n",
       "      <td>3.0</td>\n",
       "      <td>Basic</td>\n",
       "      <td>3.0</td>\n",
       "      <td>Divorced</td>\n",
       "      <td>2.0</td>\n",
       "      <td>1</td>\n",
       "      <td>5</td>\n",
       "      <td>1</td>\n",
       "      <td>Executive</td>\n",
       "      <td>9.793059</td>\n",
       "      <td>3.0</td>\n",
       "    </tr>\n",
       "    <tr>\n",
       "      <th>4</th>\n",
       "      <td>36.0</td>\n",
       "      <td>Self Enquiry</td>\n",
       "      <td>1</td>\n",
       "      <td>2.079442</td>\n",
       "      <td>Small Business</td>\n",
       "      <td>3.0</td>\n",
       "      <td>Basic</td>\n",
       "      <td>4.0</td>\n",
       "      <td>Divorced</td>\n",
       "      <td>1.0</td>\n",
       "      <td>0</td>\n",
       "      <td>5</td>\n",
       "      <td>1</td>\n",
       "      <td>Executive</td>\n",
       "      <td>9.823795</td>\n",
       "      <td>2.0</td>\n",
       "    </tr>\n",
       "  </tbody>\n",
       "</table>\n",
       "</div>"
      ],
      "text/plain": [
       "    Age    TypeofContact  CityTier  DurationOfPitch      Occupation  \\\n",
       "0  41.0     Self Enquiry         3         1.791759        Salaried   \n",
       "1  49.0  Company Invited         1         2.639057        Salaried   \n",
       "2  37.0     Self Enquiry         1         2.079442     Free Lancer   \n",
       "3  33.0  Company Invited         1         2.197225        Salaried   \n",
       "4  36.0     Self Enquiry         1         2.079442  Small Business   \n",
       "\n",
       "   NumberOfFollowups ProductPitched  PreferredPropertyStar MaritalStatus  \\\n",
       "0                3.0         Deluxe                    3.0     Unmarried   \n",
       "1                4.0         Deluxe                    4.0      Divorced   \n",
       "2                4.0          Basic                    3.0     Unmarried   \n",
       "3                3.0          Basic                    3.0      Divorced   \n",
       "4                3.0          Basic                    4.0      Divorced   \n",
       "\n",
       "   NumberOfTrips  Passport  PitchSatisfactionScore  OwnCar Designation  \\\n",
       "0            1.0         1                       2       1     Manager   \n",
       "1            2.0         0                       3       1     Manager   \n",
       "2            7.0         1                       3       0   Executive   \n",
       "3            2.0         1                       5       1   Executive   \n",
       "4            1.0         0                       5       1   Executive   \n",
       "\n",
       "   MonthlyIncome  TotalVisiting  \n",
       "0       9.951944            3.0  \n",
       "1       9.909967            5.0  \n",
       "2       9.746249            3.0  \n",
       "3       9.793059            3.0  \n",
       "4       9.823795            2.0  "
      ]
     },
     "execution_count": 30,
     "metadata": {},
     "output_type": "execute_result"
    }
   ],
   "source": [
    "X.head()"
   ]
  },
  {
   "cell_type": "code",
   "execution_count": 31,
   "metadata": {},
   "outputs": [
    {
     "data": {
      "text/plain": [
       "0    1\n",
       "1    0\n",
       "2    1\n",
       "3    0\n",
       "4    0\n",
       "Name: ProdTaken, dtype: int64"
      ]
     },
     "execution_count": 31,
     "metadata": {},
     "output_type": "execute_result"
    }
   ],
   "source": [
    "y.head()"
   ]
  },
  {
   "cell_type": "code",
   "execution_count": 32,
   "metadata": {},
   "outputs": [],
   "source": [
    "# Identify categorical features by selecting columns with data type 'object'\n",
    "categorical_features = X.select_dtypes(include=\"object\").columns\n",
    "\n",
    "# Identify numeric features by selecting columns with data types other than 'object'\n",
    "numeric_features = X.select_dtypes(exclude=\"object\").columns"
   ]
  },
  {
   "cell_type": "code",
   "execution_count": 33,
   "metadata": {},
   "outputs": [
    {
     "data": {
      "text/plain": [
       "Index(['TypeofContact', 'Occupation', 'ProductPitched', 'MaritalStatus',\n",
       "       'Designation'],\n",
       "      dtype='object')"
      ]
     },
     "execution_count": 33,
     "metadata": {},
     "output_type": "execute_result"
    }
   ],
   "source": [
    "categorical_features"
   ]
  },
  {
   "cell_type": "code",
   "execution_count": 34,
   "metadata": {},
   "outputs": [
    {
     "data": {
      "text/plain": [
       "Index(['Age', 'CityTier', 'DurationOfPitch', 'NumberOfFollowups',\n",
       "       'PreferredPropertyStar', 'NumberOfTrips', 'Passport',\n",
       "       'PitchSatisfactionScore', 'OwnCar', 'MonthlyIncome', 'TotalVisiting'],\n",
       "      dtype='object')"
      ]
     },
     "execution_count": 34,
     "metadata": {},
     "output_type": "execute_result"
    }
   ],
   "source": [
    "numeric_features"
   ]
  },
  {
   "cell_type": "code",
   "execution_count": 35,
   "metadata": {},
   "outputs": [],
   "source": [
    "from sklearn.preprocessing import OneHotEncoder, StandardScaler\n",
    "from sklearn.compose import ColumnTransformer\n",
    "\n",
    "\n",
    "# Initialize the StandardScaler for numeric features\n",
    "sc = StandardScaler()\n",
    "# Initialize the OneHotEncoder for categorical features\n",
    "ohe = OneHotEncoder()\n",
    "\n",
    "\n",
    "# Create a ColumnTransformer to apply different preprocessing steps to different types of features\n",
    "ct = ColumnTransformer(\n",
    "    [\n",
    "        (\"OneHotEncoder\",ohe,categorical_features), # Apply OneHotEncoder to categorical features\n",
    "        (\"StandardScaler\",sc,numeric_features) # Apply StandardScaler to numeric features\n",
    "    ]\n",
    ")\n",
    "\n",
    "\n",
    "# Fit and transform the feature matrix X using the ColumnTransformer\n",
    "X = ct.fit_transform(X)"
   ]
  },
  {
   "cell_type": "code",
   "execution_count": 36,
   "metadata": {},
   "outputs": [
    {
     "data": {
      "text/plain": [
       "array([[ 0.        ,  1.        ,  0.        , ...,  0.78239198,\n",
       "        -0.46731026, -0.77047253],\n",
       "       [ 1.        ,  0.        ,  0.        , ...,  0.78239198,\n",
       "        -0.69213072,  0.64348269],\n",
       "       [ 0.        ,  1.        ,  1.        , ..., -1.27813172,\n",
       "        -1.56895349, -0.77047253],\n",
       "       ...,\n",
       "       [ 0.        ,  1.        ,  0.        , ...,  0.78239198,\n",
       "         1.76015649,  2.05743791],\n",
       "       [ 0.        ,  1.        ,  0.        , ..., -1.27813172,\n",
       "        -0.64999408,  0.64348269],\n",
       "       [ 0.        ,  1.        ,  0.        , ...,  0.78239198,\n",
       "         0.25877058,  1.3504603 ]])"
      ]
     },
     "execution_count": 36,
     "metadata": {},
     "output_type": "execute_result"
    }
   ],
   "source": [
    "X"
   ]
  },
  {
   "cell_type": "code",
   "execution_count": 37,
   "metadata": {},
   "outputs": [
    {
     "data": {
      "text/plain": [
       "(4888, 30)"
      ]
     },
     "execution_count": 37,
     "metadata": {},
     "output_type": "execute_result"
    }
   ],
   "source": [
    "X.shape"
   ]
  },
  {
   "cell_type": "code",
   "execution_count": 38,
   "metadata": {},
   "outputs": [
    {
     "data": {
      "text/plain": [
       "(4888, 17)"
      ]
     },
     "execution_count": 38,
     "metadata": {},
     "output_type": "execute_result"
    }
   ],
   "source": [
    "df.shape"
   ]
  },
  {
   "cell_type": "markdown",
   "metadata": {
    "vscode": {
     "languageId": "bat"
    }
   },
   "source": [
    "# Handling Imbalanced Data"
   ]
  },
  {
   "cell_type": "code",
   "execution_count": 39,
   "metadata": {},
   "outputs": [
    {
     "ename": "ModuleNotFoundError",
     "evalue": "No module named 'imblearn'",
     "output_type": "error",
     "traceback": [
      "\u001b[1;31m---------------------------------------------------------------------------\u001b[0m",
      "\u001b[1;31mModuleNotFoundError\u001b[0m                       Traceback (most recent call last)",
      "Cell \u001b[1;32mIn[39], line 1\u001b[0m\n\u001b[1;32m----> 1\u001b[0m \u001b[38;5;28;01mfrom\u001b[39;00m \u001b[38;5;21;01mimblearn\u001b[39;00m\u001b[38;5;21;01m.\u001b[39;00m\u001b[38;5;21;01mcombine\u001b[39;00m \u001b[38;5;28;01mimport\u001b[39;00m SMOTEENN, SMOTETomek\n",
      "\u001b[1;31mModuleNotFoundError\u001b[0m: No module named 'imblearn'"
     ]
    }
   ],
   "source": [
    "from imblearn.combine import SMOTEENN, SMOTETomek"
   ]
  },
  {
   "cell_type": "code",
   "execution_count": null,
   "metadata": {},
   "outputs": [],
   "source": [
    "# Initialize SMOTEENN for handling class imbalance with a random seed for reproducibility\n",
    "smt = SMOTEENN(random_state=42, sampling_strategy=\"minority\")\n",
    "\n",
    "# Apply SMOTEENN to resample the feature matrix X and target vector y\n",
    "X_res,y_res = smt.fit_resample(X,y)"
   ]
  },
  {
   "cell_type": "code",
   "execution_count": null,
   "metadata": {},
   "outputs": [
    {
     "data": {
      "text/plain": [
       "(7123, 30)"
      ]
     },
     "execution_count": 40,
     "metadata": {},
     "output_type": "execute_result"
    }
   ],
   "source": [
    "X_res.shape"
   ]
  },
  {
   "cell_type": "markdown",
   "metadata": {},
   "source": [
    "# Train, Test & Split"
   ]
  },
  {
   "cell_type": "code",
   "execution_count": null,
   "metadata": {},
   "outputs": [],
   "source": [
    "from sklearn.model_selection import train_test_split"
   ]
  },
  {
   "cell_type": "code",
   "execution_count": null,
   "metadata": {},
   "outputs": [],
   "source": [
    "# Split the resampled dataset into training and testing sets\n",
    "X_train,X_test,y_train,y_test = train_test_split(X_res,y_res,test_size=0.2,random_state=42)"
   ]
  },
  {
   "cell_type": "markdown",
   "metadata": {},
   "source": [
    "# Model Training"
   ]
  },
  {
   "cell_type": "code",
   "execution_count": null,
   "metadata": {},
   "outputs": [],
   "source": [
    "from sklearn.tree import DecisionTreeClassifier\n",
    "from sklearn.svm import SVC\n",
    "from sklearn.linear_model import LogisticRegression\n",
    "from sklearn.ensemble import RandomForestClassifier,AdaBoostClassifier\n",
    "from xgboost import XGBClassifier\n",
    "from sklearn.neighbors import KNeighborsClassifier\n",
    "\n",
    "from sklearn.metrics import accuracy_score,f1_score,precision_score"
   ]
  },
  {
   "cell_type": "code",
   "execution_count": null,
   "metadata": {},
   "outputs": [
    {
     "name": "stdout",
     "output_type": "stream",
     "text": [
      "RF\n",
      "Model Performance for Train Data\n",
      "accuracy_score: 1.0\n",
      "f1_score: 1.0\n",
      "Precision: 1.0\n",
      "\n",
      "Model Performance for Test Data\n",
      "accuracy_score: 0.9775438596491228\n",
      "f1_score: 0.9787516600265604\n",
      "Precision: 0.9774535809018567\n",
      "**************************************************\n",
      "DC\n",
      "Model Performance for Train Data\n",
      "accuracy_score: 1.0\n",
      "f1_score: 1.0\n",
      "Precision: 1.0\n",
      "\n",
      "Model Performance for Test Data\n",
      "accuracy_score: 0.9340350877192982\n",
      "f1_score: 0.9383202099737533\n",
      "Precision: 0.9261658031088082\n",
      "**************************************************\n",
      "LR\n",
      "Model Performance for Train Data\n",
      "accuracy_score: 0.7778167778167778\n",
      "f1_score: 0.8028651510432887\n",
      "Precision: 0.7915259441203562\n",
      "\n",
      "Model Performance for Test Data\n",
      "accuracy_score: 0.7719298245614035\n",
      "f1_score: 0.791800128122998\n",
      "Precision: 0.7639060568603214\n",
      "**************************************************\n",
      "KNN\n",
      "Model Performance for Train Data\n",
      "accuracy_score: 0.984029484029484\n",
      "f1_score: 0.9858277526864975\n",
      "Precision: 0.972051597051597\n",
      "\n",
      "Model Performance for Test Data\n",
      "accuracy_score: 0.9663157894736842\n",
      "f1_score: 0.9690721649484536\n",
      "Precision: 0.94\n",
      "**************************************************\n",
      "XGB\n",
      "Model Performance for Train Data\n",
      "accuracy_score: 0.9998244998244998\n",
      "f1_score: 0.9998419971559488\n",
      "Precision: 1.0\n",
      "\n",
      "Model Performance for Test Data\n",
      "accuracy_score: 0.968421052631579\n",
      "f1_score: 0.9701789264413518\n",
      "Precision: 0.9669749009247027\n",
      "**************************************************\n",
      "ADA\n",
      "Model Performance for Train Data\n",
      "accuracy_score: 0.8687258687258688\n",
      "f1_score: 0.882093316519546\n",
      "Precision: 0.8801509908776345\n",
      "\n",
      "Model Performance for Test Data\n",
      "accuracy_score: 0.8547368421052631\n",
      "f1_score: 0.8640840446487197\n",
      "Precision: 0.8534370946822308\n",
      "**************************************************\n",
      "SVC\n",
      "Model Performance for Train Data\n",
      "accuracy_score: 0.9582309582309583\n",
      "f1_score: 0.9628241174632928\n",
      "Precision: 0.952116156935434\n",
      "\n",
      "Model Performance for Test Data\n",
      "accuracy_score: 0.9445614035087719\n",
      "f1_score: 0.9483322432962721\n",
      "Precision: 0.9330759330759331\n",
      "**************************************************\n"
     ]
    }
   ],
   "source": [
    "models = {\n",
    "    \"RF\":RandomForestClassifier(),\n",
    "    \"DC\":DecisionTreeClassifier(),\n",
    "    \"LR\":LogisticRegression(),\n",
    "    \"KNN\":KNeighborsClassifier(),\n",
    "    \"XGB\":XGBClassifier(),\n",
    "    \"ADA\":AdaBoostClassifier(),\n",
    "    \"SVC\":SVC()\n",
    "}\n",
    "\n",
    "for i in range(len(list(models))):\n",
    "    model = list(models.values())[i]\n",
    "    model.fit(X_train,y_train)\n",
    "\n",
    "    y_train_pred = model.predict(X_train)\n",
    "    y_test_pred = model.predict(X_test)\n",
    "\n",
    "    model_train_accuracy = accuracy_score(y_train,y_train_pred)\n",
    "    model_train_f1 = f1_score(y_train,y_train_pred)\n",
    "    model_train_precision = precision_score(y_train,y_train_pred)\n",
    "\n",
    "    model_test_accuracy = accuracy_score(y_test,y_test_pred)\n",
    "    model_test_f1 = f1_score(y_test,y_test_pred)\n",
    "    model_test_precision = precision_score(y_test,y_test_pred)\n",
    "\n",
    "    print(list(models.keys())[i])\n",
    "\n",
    "    print(\"Model Performance for Train Data\")\n",
    "    \n",
    "    print(\"accuracy_score:\",model_train_accuracy)\n",
    "    print(\"f1_score:\",model_train_f1)\n",
    "    print(\"Precision:\",model_train_precision)\n",
    "\n",
    "    print()\n",
    "\n",
    "    print(\"Model Performance for Test Data\")\n",
    "    \n",
    "    print(\"accuracy_score:\",model_test_accuracy)\n",
    "    print(\"f1_score:\",model_test_f1)\n",
    "    print(\"Precision:\",model_test_precision)\n",
    "\n",
    "    print(\"*\" * 50)"
   ]
  },
  {
   "cell_type": "markdown",
   "metadata": {},
   "source": [
    "# Hyperparameter Tuning"
   ]
  },
  {
   "cell_type": "code",
   "execution_count": null,
   "metadata": {},
   "outputs": [],
   "source": [
    "# Define the parameter grid for k-Nearest Neighbors (KNN) model\n",
    "knn_params = {\"n_neighbors\":[2,3,10,20,40,50]}\n",
    "\n",
    "# Define the parameter grid for Random Forest (RF) model\n",
    "rf_params = {\"max_depth\":[5,8,15,10],\n",
    "             \"max_features\":[5,7,10],\n",
    "             \"min_samples_split\":[2,8,15],\n",
    "             \"n_estimators\":[100,200,500]}"
   ]
  },
  {
   "cell_type": "code",
   "execution_count": null,
   "metadata": {},
   "outputs": [],
   "source": [
    "from sklearn.model_selection import RandomizedSearchCV"
   ]
  },
  {
   "cell_type": "code",
   "execution_count": null,
   "metadata": {},
   "outputs": [],
   "source": [
    "# List of models to be evaluated with their respective hyperparameter grids\n",
    "random_cv = [\n",
    "    (\"KNN\",KNeighborsClassifier(),knn_params),\n",
    "    (\"RF\",RandomForestClassifier(),rf_params)\n",
    "]"
   ]
  },
  {
   "cell_type": "code",
   "execution_count": null,
   "metadata": {},
   "outputs": [
    {
     "name": "stdout",
     "output_type": "stream",
     "text": [
      "Fitting 3 folds for each of 6 candidates, totalling 18 fits\n",
      "[CV] END ......................................n_neighbors=2; total time=   0.0s\n",
      "[CV] END ......................................n_neighbors=2; total time=   0.0s\n",
      "[CV] END ......................................n_neighbors=2; total time=   0.0s\n",
      "[CV] END ......................................n_neighbors=3; total time=   0.0s\n",
      "[CV] END ......................................n_neighbors=3; total time=   0.0s\n",
      "[CV] END ......................................n_neighbors=3; total time=   0.0s\n",
      "[CV] END .....................................n_neighbors=10; total time=   0.0s\n",
      "[CV] END .....................................n_neighbors=10; total time=   0.0s\n",
      "[CV] END .....................................n_neighbors=10; total time=   0.0s\n",
      "[CV] END .....................................n_neighbors=20; total time=   0.0s\n",
      "[CV] END .....................................n_neighbors=20; total time=   0.0s\n",
      "[CV] END .....................................n_neighbors=20; total time=   0.0s\n",
      "[CV] END .....................................n_neighbors=40; total time=   0.0s\n",
      "[CV] END .....................................n_neighbors=40; total time=   0.0s\n",
      "[CV] END .....................................n_neighbors=40; total time=   0.0s\n",
      "[CV] END .....................................n_neighbors=50; total time=   0.0s\n",
      "[CV] END .....................................n_neighbors=50; total time=   0.0s\n",
      "[CV] END .....................................n_neighbors=50; total time=   0.0s\n",
      "Fitting 3 folds for each of 100 candidates, totalling 300 fits\n",
      "[CV] END max_depth=15, max_features=7, min_samples_split=2, n_estimators=200; total time=   0.8s\n",
      "[CV] END max_depth=15, max_features=7, min_samples_split=2, n_estimators=200; total time=   0.8s\n",
      "[CV] END max_depth=15, max_features=7, min_samples_split=2, n_estimators=200; total time=   0.8s\n",
      "[CV] END max_depth=5, max_features=10, min_samples_split=8, n_estimators=200; total time=   0.5s\n",
      "[CV] END max_depth=5, max_features=10, min_samples_split=8, n_estimators=200; total time=   0.5s\n",
      "[CV] END max_depth=5, max_features=10, min_samples_split=8, n_estimators=200; total time=   0.5s\n",
      "[CV] END max_depth=8, max_features=10, min_samples_split=15, n_estimators=100; total time=   0.3s\n",
      "[CV] END max_depth=8, max_features=10, min_samples_split=15, n_estimators=100; total time=   0.3s\n",
      "[CV] END max_depth=8, max_features=10, min_samples_split=15, n_estimators=100; total time=   0.3s\n",
      "[CV] END max_depth=15, max_features=7, min_samples_split=8, n_estimators=200; total time=   0.7s\n",
      "[CV] END max_depth=15, max_features=7, min_samples_split=8, n_estimators=200; total time=   0.7s\n",
      "[CV] END max_depth=15, max_features=7, min_samples_split=8, n_estimators=200; total time=   0.7s\n",
      "[CV] END max_depth=15, max_features=7, min_samples_split=15, n_estimators=500; total time=   1.9s\n",
      "[CV] END max_depth=15, max_features=7, min_samples_split=15, n_estimators=500; total time=   1.7s\n",
      "[CV] END max_depth=15, max_features=7, min_samples_split=15, n_estimators=500; total time=   1.7s\n",
      "[CV] END max_depth=5, max_features=7, min_samples_split=2, n_estimators=500; total time=   1.1s\n",
      "[CV] END max_depth=5, max_features=7, min_samples_split=2, n_estimators=500; total time=   1.1s\n",
      "[CV] END max_depth=5, max_features=7, min_samples_split=2, n_estimators=500; total time=   1.0s\n",
      "[CV] END max_depth=5, max_features=5, min_samples_split=15, n_estimators=500; total time=   0.9s\n",
      "[CV] END max_depth=5, max_features=5, min_samples_split=15, n_estimators=500; total time=   0.9s\n",
      "[CV] END max_depth=5, max_features=5, min_samples_split=15, n_estimators=500; total time=   0.9s\n",
      "[CV] END max_depth=8, max_features=5, min_samples_split=2, n_estimators=100; total time=   0.2s\n",
      "[CV] END max_depth=8, max_features=5, min_samples_split=2, n_estimators=100; total time=   0.2s\n",
      "[CV] END max_depth=8, max_features=5, min_samples_split=2, n_estimators=100; total time=   0.1s\n",
      "[CV] END max_depth=5, max_features=10, min_samples_split=2, n_estimators=100; total time=   0.2s\n",
      "[CV] END max_depth=5, max_features=10, min_samples_split=2, n_estimators=100; total time=   0.2s\n",
      "[CV] END max_depth=5, max_features=10, min_samples_split=2, n_estimators=100; total time=   0.2s\n",
      "[CV] END max_depth=5, max_features=10, min_samples_split=15, n_estimators=500; total time=   1.3s\n",
      "[CV] END max_depth=5, max_features=10, min_samples_split=15, n_estimators=500; total time=   1.3s\n",
      "[CV] END max_depth=5, max_features=10, min_samples_split=15, n_estimators=500; total time=   1.3s\n",
      "[CV] END max_depth=5, max_features=7, min_samples_split=15, n_estimators=100; total time=   0.1s\n",
      "[CV] END max_depth=5, max_features=7, min_samples_split=15, n_estimators=100; total time=   0.1s\n",
      "[CV] END max_depth=5, max_features=7, min_samples_split=15, n_estimators=100; total time=   0.1s\n",
      "[CV] END max_depth=5, max_features=5, min_samples_split=2, n_estimators=100; total time=   0.1s\n",
      "[CV] END max_depth=5, max_features=5, min_samples_split=2, n_estimators=100; total time=   0.1s\n",
      "[CV] END max_depth=5, max_features=5, min_samples_split=2, n_estimators=100; total time=   0.1s\n",
      "[CV] END max_depth=10, max_features=7, min_samples_split=8, n_estimators=100; total time=   0.2s\n",
      "[CV] END max_depth=10, max_features=7, min_samples_split=8, n_estimators=100; total time=   0.2s\n",
      "[CV] END max_depth=10, max_features=7, min_samples_split=8, n_estimators=100; total time=   0.2s\n",
      "[CV] END max_depth=10, max_features=7, min_samples_split=2, n_estimators=100; total time=   0.2s\n",
      "[CV] END max_depth=10, max_features=7, min_samples_split=2, n_estimators=100; total time=   0.2s\n",
      "[CV] END max_depth=10, max_features=7, min_samples_split=2, n_estimators=100; total time=   0.2s\n",
      "[CV] END max_depth=8, max_features=7, min_samples_split=2, n_estimators=200; total time=   0.5s\n",
      "[CV] END max_depth=8, max_features=7, min_samples_split=2, n_estimators=200; total time=   0.5s\n",
      "[CV] END max_depth=8, max_features=7, min_samples_split=2, n_estimators=200; total time=   0.5s\n",
      "[CV] END max_depth=8, max_features=10, min_samples_split=15, n_estimators=500; total time=   1.8s\n",
      "[CV] END max_depth=8, max_features=10, min_samples_split=15, n_estimators=500; total time=   1.8s\n",
      "[CV] END max_depth=8, max_features=10, min_samples_split=15, n_estimators=500; total time=   1.7s\n",
      "[CV] END max_depth=8, max_features=5, min_samples_split=8, n_estimators=100; total time=   0.2s\n",
      "[CV] END max_depth=8, max_features=5, min_samples_split=8, n_estimators=100; total time=   0.2s\n",
      "[CV] END max_depth=8, max_features=5, min_samples_split=8, n_estimators=100; total time=   0.2s\n",
      "[CV] END max_depth=5, max_features=5, min_samples_split=8, n_estimators=200; total time=   0.3s\n",
      "[CV] END max_depth=5, max_features=5, min_samples_split=8, n_estimators=200; total time=   0.3s\n",
      "[CV] END max_depth=5, max_features=5, min_samples_split=8, n_estimators=200; total time=   0.3s\n",
      "[CV] END max_depth=10, max_features=5, min_samples_split=8, n_estimators=500; total time=   1.3s\n",
      "[CV] END max_depth=10, max_features=5, min_samples_split=8, n_estimators=500; total time=   1.5s\n",
      "[CV] END max_depth=10, max_features=5, min_samples_split=8, n_estimators=500; total time=   1.3s\n",
      "[CV] END max_depth=15, max_features=10, min_samples_split=15, n_estimators=100; total time=   0.3s\n",
      "[CV] END max_depth=15, max_features=10, min_samples_split=15, n_estimators=100; total time=   0.3s\n",
      "[CV] END max_depth=15, max_features=10, min_samples_split=15, n_estimators=100; total time=   0.3s\n",
      "[CV] END max_depth=8, max_features=5, min_samples_split=2, n_estimators=500; total time=   1.2s\n",
      "[CV] END max_depth=8, max_features=5, min_samples_split=2, n_estimators=500; total time=   1.3s\n",
      "[CV] END max_depth=8, max_features=5, min_samples_split=2, n_estimators=500; total time=   1.3s\n",
      "[CV] END max_depth=15, max_features=5, min_samples_split=15, n_estimators=100; total time=   0.4s\n",
      "[CV] END max_depth=15, max_features=5, min_samples_split=15, n_estimators=100; total time=   0.3s\n",
      "[CV] END max_depth=15, max_features=5, min_samples_split=15, n_estimators=100; total time=   0.2s\n",
      "[CV] END max_depth=5, max_features=7, min_samples_split=8, n_estimators=200; total time=   0.5s\n",
      "[CV] END max_depth=5, max_features=7, min_samples_split=8, n_estimators=200; total time=   0.4s\n",
      "[CV] END max_depth=5, max_features=7, min_samples_split=8, n_estimators=200; total time=   0.4s\n",
      "[CV] END max_depth=15, max_features=10, min_samples_split=8, n_estimators=100; total time=   0.4s\n",
      "[CV] END max_depth=15, max_features=10, min_samples_split=8, n_estimators=100; total time=   0.4s\n",
      "[CV] END max_depth=15, max_features=10, min_samples_split=8, n_estimators=100; total time=   0.4s\n",
      "[CV] END max_depth=10, max_features=7, min_samples_split=8, n_estimators=500; total time=   1.7s\n",
      "[CV] END max_depth=10, max_features=7, min_samples_split=8, n_estimators=500; total time=   1.6s\n",
      "[CV] END max_depth=10, max_features=7, min_samples_split=8, n_estimators=500; total time=   1.7s\n",
      "[CV] END max_depth=15, max_features=7, min_samples_split=15, n_estimators=100; total time=   0.3s\n",
      "[CV] END max_depth=15, max_features=7, min_samples_split=15, n_estimators=100; total time=   0.3s\n",
      "[CV] END max_depth=15, max_features=7, min_samples_split=15, n_estimators=100; total time=   0.3s\n",
      "[CV] END max_depth=10, max_features=5, min_samples_split=2, n_estimators=500; total time=   1.5s\n",
      "[CV] END max_depth=10, max_features=5, min_samples_split=2, n_estimators=500; total time=   1.5s\n",
      "[CV] END max_depth=10, max_features=5, min_samples_split=2, n_estimators=500; total time=   1.4s\n",
      "[CV] END max_depth=8, max_features=7, min_samples_split=2, n_estimators=100; total time=   0.2s\n",
      "[CV] END max_depth=8, max_features=7, min_samples_split=2, n_estimators=100; total time=   0.2s\n",
      "[CV] END max_depth=8, max_features=7, min_samples_split=2, n_estimators=100; total time=   0.2s\n",
      "[CV] END max_depth=5, max_features=5, min_samples_split=8, n_estimators=500; total time=   0.9s\n",
      "[CV] END max_depth=5, max_features=5, min_samples_split=8, n_estimators=500; total time=   0.9s\n",
      "[CV] END max_depth=5, max_features=5, min_samples_split=8, n_estimators=500; total time=   0.9s\n",
      "[CV] END max_depth=15, max_features=10, min_samples_split=15, n_estimators=500; total time=   2.1s\n",
      "[CV] END max_depth=15, max_features=10, min_samples_split=15, n_estimators=500; total time=   2.1s\n",
      "[CV] END max_depth=15, max_features=10, min_samples_split=15, n_estimators=500; total time=   2.1s\n",
      "[CV] END max_depth=5, max_features=7, min_samples_split=2, n_estimators=100; total time=   0.1s\n",
      "[CV] END max_depth=5, max_features=7, min_samples_split=2, n_estimators=100; total time=   0.1s\n",
      "[CV] END max_depth=5, max_features=7, min_samples_split=2, n_estimators=100; total time=   0.1s\n",
      "[CV] END max_depth=5, max_features=10, min_samples_split=2, n_estimators=200; total time=   0.5s\n",
      "[CV] END max_depth=5, max_features=10, min_samples_split=2, n_estimators=200; total time=   0.5s\n",
      "[CV] END max_depth=5, max_features=10, min_samples_split=2, n_estimators=200; total time=   0.5s\n",
      "[CV] END max_depth=10, max_features=7, min_samples_split=2, n_estimators=500; total time=   1.7s\n",
      "[CV] END max_depth=10, max_features=7, min_samples_split=2, n_estimators=500; total time=   1.7s\n",
      "[CV] END max_depth=10, max_features=7, min_samples_split=2, n_estimators=500; total time=   1.6s\n",
      "[CV] END max_depth=8, max_features=10, min_samples_split=8, n_estimators=500; total time=   1.8s\n",
      "[CV] END max_depth=8, max_features=10, min_samples_split=8, n_estimators=500; total time=   1.8s\n",
      "[CV] END max_depth=8, max_features=10, min_samples_split=8, n_estimators=500; total time=   1.8s\n",
      "[CV] END max_depth=5, max_features=5, min_samples_split=2, n_estimators=200; total time=   0.3s\n",
      "[CV] END max_depth=5, max_features=5, min_samples_split=2, n_estimators=200; total time=   0.3s\n",
      "[CV] END max_depth=5, max_features=5, min_samples_split=2, n_estimators=200; total time=   0.3s\n",
      "[CV] END max_depth=5, max_features=7, min_samples_split=15, n_estimators=200; total time=   0.4s\n",
      "[CV] END max_depth=5, max_features=7, min_samples_split=15, n_estimators=200; total time=   0.4s\n",
      "[CV] END max_depth=5, max_features=7, min_samples_split=15, n_estimators=200; total time=   0.4s\n",
      "[CV] END max_depth=8, max_features=10, min_samples_split=2, n_estimators=100; total time=   0.3s\n",
      "[CV] END max_depth=8, max_features=10, min_samples_split=2, n_estimators=100; total time=   0.3s\n",
      "[CV] END max_depth=8, max_features=10, min_samples_split=2, n_estimators=100; total time=   0.3s\n",
      "[CV] END max_depth=10, max_features=7, min_samples_split=2, n_estimators=200; total time=   0.6s\n",
      "[CV] END max_depth=10, max_features=7, min_samples_split=2, n_estimators=200; total time=   0.6s\n",
      "[CV] END max_depth=10, max_features=7, min_samples_split=2, n_estimators=200; total time=   0.6s\n",
      "[CV] END max_depth=15, max_features=10, min_samples_split=15, n_estimators=200; total time=   0.8s\n",
      "[CV] END max_depth=15, max_features=10, min_samples_split=15, n_estimators=200; total time=   0.8s\n",
      "[CV] END max_depth=15, max_features=10, min_samples_split=15, n_estimators=200; total time=   0.7s\n",
      "[CV] END max_depth=10, max_features=10, min_samples_split=15, n_estimators=500; total time=   2.0s\n",
      "[CV] END max_depth=10, max_features=10, min_samples_split=15, n_estimators=500; total time=   2.1s\n",
      "[CV] END max_depth=10, max_features=10, min_samples_split=15, n_estimators=500; total time=   2.0s\n",
      "[CV] END max_depth=8, max_features=7, min_samples_split=8, n_estimators=500; total time=   1.5s\n",
      "[CV] END max_depth=8, max_features=7, min_samples_split=8, n_estimators=500; total time=   1.5s\n",
      "[CV] END max_depth=8, max_features=7, min_samples_split=8, n_estimators=500; total time=   1.5s\n",
      "[CV] END max_depth=10, max_features=5, min_samples_split=2, n_estimators=200; total time=   0.5s\n",
      "[CV] END max_depth=10, max_features=5, min_samples_split=2, n_estimators=200; total time=   0.5s\n",
      "[CV] END max_depth=10, max_features=5, min_samples_split=2, n_estimators=200; total time=   0.5s\n",
      "[CV] END max_depth=10, max_features=10, min_samples_split=2, n_estimators=500; total time=   2.1s\n",
      "[CV] END max_depth=10, max_features=10, min_samples_split=2, n_estimators=500; total time=   2.2s\n",
      "[CV] END max_depth=10, max_features=10, min_samples_split=2, n_estimators=500; total time=   2.1s\n",
      "[CV] END max_depth=10, max_features=5, min_samples_split=15, n_estimators=100; total time=   0.2s\n",
      "[CV] END max_depth=10, max_features=5, min_samples_split=15, n_estimators=100; total time=   0.2s\n",
      "[CV] END max_depth=10, max_features=5, min_samples_split=15, n_estimators=100; total time=   0.2s\n",
      "[CV] END max_depth=8, max_features=5, min_samples_split=8, n_estimators=200; total time=   0.4s\n",
      "[CV] END max_depth=8, max_features=5, min_samples_split=8, n_estimators=200; total time=   0.4s\n",
      "[CV] END max_depth=8, max_features=5, min_samples_split=8, n_estimators=200; total time=   0.4s\n",
      "[CV] END max_depth=10, max_features=5, min_samples_split=15, n_estimators=500; total time=   1.3s\n",
      "[CV] END max_depth=10, max_features=5, min_samples_split=15, n_estimators=500; total time=   1.3s\n",
      "[CV] END max_depth=10, max_features=5, min_samples_split=15, n_estimators=500; total time=   1.3s\n",
      "[CV] END max_depth=5, max_features=7, min_samples_split=15, n_estimators=500; total time=   1.1s\n",
      "[CV] END max_depth=5, max_features=7, min_samples_split=15, n_estimators=500; total time=   1.0s\n",
      "[CV] END max_depth=5, max_features=7, min_samples_split=15, n_estimators=500; total time=   1.0s\n",
      "[CV] END max_depth=8, max_features=7, min_samples_split=15, n_estimators=500; total time=   1.5s\n",
      "[CV] END max_depth=8, max_features=7, min_samples_split=15, n_estimators=500; total time=   1.4s\n",
      "[CV] END max_depth=8, max_features=7, min_samples_split=15, n_estimators=500; total time=   1.5s\n",
      "[CV] END max_depth=10, max_features=5, min_samples_split=2, n_estimators=100; total time=   0.2s\n",
      "[CV] END max_depth=10, max_features=5, min_samples_split=2, n_estimators=100; total time=   0.2s\n",
      "[CV] END max_depth=10, max_features=5, min_samples_split=2, n_estimators=100; total time=   0.2s\n",
      "[CV] END max_depth=5, max_features=10, min_samples_split=8, n_estimators=100; total time=   0.2s\n",
      "[CV] END max_depth=5, max_features=10, min_samples_split=8, n_estimators=100; total time=   0.2s\n",
      "[CV] END max_depth=5, max_features=10, min_samples_split=8, n_estimators=100; total time=   0.2s\n",
      "[CV] END max_depth=15, max_features=10, min_samples_split=2, n_estimators=500; total time=   2.2s\n",
      "[CV] END max_depth=15, max_features=10, min_samples_split=2, n_estimators=500; total time=   2.3s\n",
      "[CV] END max_depth=15, max_features=10, min_samples_split=2, n_estimators=500; total time=   2.2s\n",
      "[CV] END max_depth=8, max_features=10, min_samples_split=15, n_estimators=200; total time=   0.7s\n",
      "[CV] END max_depth=8, max_features=10, min_samples_split=15, n_estimators=200; total time=   0.7s\n",
      "[CV] END max_depth=8, max_features=10, min_samples_split=15, n_estimators=200; total time=   0.7s\n",
      "[CV] END max_depth=8, max_features=10, min_samples_split=2, n_estimators=200; total time=   0.7s\n",
      "[CV] END max_depth=8, max_features=10, min_samples_split=2, n_estimators=200; total time=   0.7s\n",
      "[CV] END max_depth=8, max_features=10, min_samples_split=2, n_estimators=200; total time=   0.7s\n",
      "[CV] END max_depth=5, max_features=5, min_samples_split=2, n_estimators=500; total time=   0.9s\n",
      "[CV] END max_depth=5, max_features=5, min_samples_split=2, n_estimators=500; total time=   0.9s\n",
      "[CV] END max_depth=5, max_features=5, min_samples_split=2, n_estimators=500; total time=   0.9s\n",
      "[CV] END max_depth=10, max_features=10, min_samples_split=8, n_estimators=200; total time=   0.8s\n",
      "[CV] END max_depth=10, max_features=10, min_samples_split=8, n_estimators=200; total time=   0.8s\n",
      "[CV] END max_depth=10, max_features=10, min_samples_split=8, n_estimators=200; total time=   0.8s\n",
      "[CV] END max_depth=15, max_features=10, min_samples_split=8, n_estimators=500; total time=   2.2s\n",
      "[CV] END max_depth=15, max_features=10, min_samples_split=8, n_estimators=500; total time=   2.3s\n",
      "[CV] END max_depth=15, max_features=10, min_samples_split=8, n_estimators=500; total time=   2.2s\n",
      "[CV] END max_depth=15, max_features=10, min_samples_split=2, n_estimators=100; total time=   0.4s\n",
      "[CV] END max_depth=15, max_features=10, min_samples_split=2, n_estimators=100; total time=   0.4s\n",
      "[CV] END max_depth=15, max_features=10, min_samples_split=2, n_estimators=100; total time=   0.4s\n",
      "[CV] END max_depth=15, max_features=7, min_samples_split=15, n_estimators=200; total time=   0.6s\n",
      "[CV] END max_depth=15, max_features=7, min_samples_split=15, n_estimators=200; total time=   0.6s\n",
      "[CV] END max_depth=15, max_features=7, min_samples_split=15, n_estimators=200; total time=   0.6s\n",
      "[CV] END max_depth=5, max_features=10, min_samples_split=8, n_estimators=500; total time=   1.3s\n",
      "[CV] END max_depth=5, max_features=10, min_samples_split=8, n_estimators=500; total time=   1.3s\n",
      "[CV] END max_depth=5, max_features=10, min_samples_split=8, n_estimators=500; total time=   1.3s\n",
      "[CV] END max_depth=8, max_features=7, min_samples_split=8, n_estimators=200; total time=   0.5s\n",
      "[CV] END max_depth=8, max_features=7, min_samples_split=8, n_estimators=200; total time=   0.5s\n",
      "[CV] END max_depth=8, max_features=7, min_samples_split=8, n_estimators=200; total time=   0.5s\n",
      "[CV] END max_depth=5, max_features=10, min_samples_split=2, n_estimators=500; total time=   1.3s\n",
      "[CV] END max_depth=5, max_features=10, min_samples_split=2, n_estimators=500; total time=   1.3s\n",
      "[CV] END max_depth=5, max_features=10, min_samples_split=2, n_estimators=500; total time=   1.3s\n",
      "[CV] END max_depth=8, max_features=7, min_samples_split=8, n_estimators=100; total time=   0.2s\n",
      "[CV] END max_depth=8, max_features=7, min_samples_split=8, n_estimators=100; total time=   0.2s\n",
      "[CV] END max_depth=8, max_features=7, min_samples_split=8, n_estimators=100; total time=   0.2s\n",
      "[CV] END max_depth=5, max_features=5, min_samples_split=8, n_estimators=100; total time=   0.1s\n",
      "[CV] END max_depth=5, max_features=5, min_samples_split=8, n_estimators=100; total time=   0.1s\n",
      "[CV] END max_depth=5, max_features=5, min_samples_split=8, n_estimators=100; total time=   0.1s\n",
      "[CV] END max_depth=8, max_features=10, min_samples_split=8, n_estimators=100; total time=   0.3s\n",
      "[CV] END max_depth=8, max_features=10, min_samples_split=8, n_estimators=100; total time=   0.3s\n",
      "[CV] END max_depth=8, max_features=10, min_samples_split=8, n_estimators=100; total time=   0.3s\n",
      "[CV] END max_depth=15, max_features=5, min_samples_split=15, n_estimators=500; total time=   1.3s\n",
      "[CV] END max_depth=15, max_features=5, min_samples_split=15, n_estimators=500; total time=   1.3s\n",
      "[CV] END max_depth=15, max_features=5, min_samples_split=15, n_estimators=500; total time=   1.3s\n",
      "[CV] END max_depth=10, max_features=10, min_samples_split=15, n_estimators=100; total time=   0.3s\n",
      "[CV] END max_depth=10, max_features=10, min_samples_split=15, n_estimators=100; total time=   0.3s\n",
      "[CV] END max_depth=10, max_features=10, min_samples_split=15, n_estimators=100; total time=   0.3s\n",
      "[CV] END max_depth=15, max_features=5, min_samples_split=8, n_estimators=500; total time=   1.4s\n",
      "[CV] END max_depth=15, max_features=5, min_samples_split=8, n_estimators=500; total time=   1.4s\n",
      "[CV] END max_depth=15, max_features=5, min_samples_split=8, n_estimators=500; total time=   1.4s\n",
      "[CV] END max_depth=10, max_features=7, min_samples_split=15, n_estimators=100; total time=   0.3s\n",
      "[CV] END max_depth=10, max_features=7, min_samples_split=15, n_estimators=100; total time=   0.2s\n",
      "[CV] END max_depth=10, max_features=7, min_samples_split=15, n_estimators=100; total time=   0.2s\n",
      "[CV] END max_depth=10, max_features=5, min_samples_split=15, n_estimators=200; total time=   0.4s\n",
      "[CV] END max_depth=10, max_features=5, min_samples_split=15, n_estimators=200; total time=   0.4s\n",
      "[CV] END max_depth=10, max_features=5, min_samples_split=15, n_estimators=200; total time=   0.4s\n",
      "[CV] END max_depth=15, max_features=5, min_samples_split=8, n_estimators=200; total time=   0.5s\n",
      "[CV] END max_depth=15, max_features=5, min_samples_split=8, n_estimators=200; total time=   0.5s\n",
      "[CV] END max_depth=15, max_features=5, min_samples_split=8, n_estimators=200; total time=   0.5s\n",
      "[CV] END max_depth=10, max_features=7, min_samples_split=15, n_estimators=200; total time=   0.6s\n",
      "[CV] END max_depth=10, max_features=7, min_samples_split=15, n_estimators=200; total time=   0.6s\n",
      "[CV] END max_depth=10, max_features=7, min_samples_split=15, n_estimators=200; total time=   0.6s\n",
      "[CV] END max_depth=10, max_features=10, min_samples_split=8, n_estimators=500; total time=   2.1s\n",
      "[CV] END max_depth=10, max_features=10, min_samples_split=8, n_estimators=500; total time=   2.1s\n",
      "[CV] END max_depth=10, max_features=10, min_samples_split=8, n_estimators=500; total time=   2.0s\n",
      "[CV] END max_depth=8, max_features=5, min_samples_split=15, n_estimators=200; total time=   0.4s\n",
      "[CV] END max_depth=8, max_features=5, min_samples_split=15, n_estimators=200; total time=   0.4s\n",
      "[CV] END max_depth=8, max_features=5, min_samples_split=15, n_estimators=200; total time=   0.4s\n",
      "[CV] END max_depth=10, max_features=10, min_samples_split=2, n_estimators=200; total time=   0.8s\n",
      "[CV] END max_depth=10, max_features=10, min_samples_split=2, n_estimators=200; total time=   0.8s\n",
      "[CV] END max_depth=10, max_features=10, min_samples_split=2, n_estimators=200; total time=   0.8s\n",
      "[CV] END max_depth=15, max_features=10, min_samples_split=2, n_estimators=200; total time=   0.8s\n",
      "[CV] END max_depth=15, max_features=10, min_samples_split=2, n_estimators=200; total time=   0.9s\n",
      "[CV] END max_depth=15, max_features=10, min_samples_split=2, n_estimators=200; total time=   0.8s\n",
      "[CV] END max_depth=5, max_features=7, min_samples_split=8, n_estimators=100; total time=   0.1s\n",
      "[CV] END max_depth=5, max_features=7, min_samples_split=8, n_estimators=100; total time=   0.1s\n",
      "[CV] END max_depth=5, max_features=7, min_samples_split=8, n_estimators=100; total time=   0.1s\n",
      "[CV] END max_depth=8, max_features=7, min_samples_split=15, n_estimators=100; total time=   0.2s\n",
      "[CV] END max_depth=8, max_features=7, min_samples_split=15, n_estimators=100; total time=   0.2s\n",
      "[CV] END max_depth=8, max_features=7, min_samples_split=15, n_estimators=100; total time=   0.2s\n",
      "[CV] END max_depth=15, max_features=5, min_samples_split=8, n_estimators=100; total time=   0.2s\n",
      "[CV] END max_depth=15, max_features=5, min_samples_split=8, n_estimators=100; total time=   0.2s\n",
      "[CV] END max_depth=15, max_features=5, min_samples_split=8, n_estimators=100; total time=   0.2s\n",
      "[CV] END max_depth=5, max_features=10, min_samples_split=15, n_estimators=200; total time=   0.5s\n",
      "[CV] END max_depth=5, max_features=10, min_samples_split=15, n_estimators=200; total time=   0.5s\n",
      "[CV] END max_depth=5, max_features=10, min_samples_split=15, n_estimators=200; total time=   0.5s\n",
      "[CV] END max_depth=10, max_features=10, min_samples_split=2, n_estimators=100; total time=   0.3s\n",
      "[CV] END max_depth=10, max_features=10, min_samples_split=2, n_estimators=100; total time=   0.3s\n",
      "[CV] END max_depth=10, max_features=10, min_samples_split=2, n_estimators=100; total time=   0.3s\n",
      "[CV] END max_depth=15, max_features=7, min_samples_split=8, n_estimators=500; total time=   1.7s\n",
      "[CV] END max_depth=15, max_features=7, min_samples_split=8, n_estimators=500; total time=   1.7s\n",
      "[CV] END max_depth=15, max_features=7, min_samples_split=8, n_estimators=500; total time=   1.8s\n",
      "[CV] END max_depth=8, max_features=7, min_samples_split=15, n_estimators=200; total time=   0.5s\n",
      "[CV] END max_depth=8, max_features=7, min_samples_split=15, n_estimators=200; total time=   0.5s\n",
      "[CV] END max_depth=8, max_features=7, min_samples_split=15, n_estimators=200; total time=   0.5s\n",
      "[CV] END max_depth=5, max_features=7, min_samples_split=2, n_estimators=200; total time=   0.4s\n",
      "[CV] END max_depth=5, max_features=7, min_samples_split=2, n_estimators=200; total time=   0.4s\n",
      "[CV] END max_depth=5, max_features=7, min_samples_split=2, n_estimators=200; total time=   0.4s\n",
      "[CV] END max_depth=8, max_features=10, min_samples_split=8, n_estimators=200; total time=   0.7s\n",
      "[CV] END max_depth=8, max_features=10, min_samples_split=8, n_estimators=200; total time=   0.7s\n",
      "[CV] END max_depth=8, max_features=10, min_samples_split=8, n_estimators=200; total time=   0.7s\n",
      "[CV] END max_depth=8, max_features=7, min_samples_split=2, n_estimators=500; total time=   1.5s\n",
      "[CV] END max_depth=8, max_features=7, min_samples_split=2, n_estimators=500; total time=   1.5s\n",
      "[CV] END max_depth=8, max_features=7, min_samples_split=2, n_estimators=500; total time=   1.4s\n",
      "[CV] END max_depth=15, max_features=7, min_samples_split=2, n_estimators=100; total time=   0.3s\n",
      "[CV] END max_depth=15, max_features=7, min_samples_split=2, n_estimators=100; total time=   0.3s\n",
      "[CV] END max_depth=15, max_features=7, min_samples_split=2, n_estimators=100; total time=   0.3s\n",
      "[CV] END max_depth=10, max_features=7, min_samples_split=15, n_estimators=500; total time=   1.7s\n",
      "[CV] END max_depth=10, max_features=7, min_samples_split=15, n_estimators=500; total time=   1.7s\n",
      "[CV] END max_depth=10, max_features=7, min_samples_split=15, n_estimators=500; total time=   1.6s\n",
      "[CV] END max_depth=5, max_features=7, min_samples_split=8, n_estimators=500; total time=   1.2s\n",
      "[CV] END max_depth=5, max_features=7, min_samples_split=8, n_estimators=500; total time=   1.2s\n",
      "[CV] END max_depth=5, max_features=7, min_samples_split=8, n_estimators=500; total time=   1.1s\n",
      "[CV] END max_depth=15, max_features=5, min_samples_split=2, n_estimators=200; total time=   0.6s\n",
      "[CV] END max_depth=15, max_features=5, min_samples_split=2, n_estimators=200; total time=   0.6s\n",
      "[CV] END max_depth=15, max_features=5, min_samples_split=2, n_estimators=200; total time=   0.6s\n",
      "[CV] END max_depth=15, max_features=5, min_samples_split=2, n_estimators=100; total time=   0.2s\n",
      "[CV] END max_depth=15, max_features=5, min_samples_split=2, n_estimators=100; total time=   0.2s\n",
      "[CV] END max_depth=15, max_features=5, min_samples_split=2, n_estimators=100; total time=   0.2s\n",
      "[CV] END max_depth=5, max_features=10, min_samples_split=15, n_estimators=100; total time=   0.2s\n",
      "[CV] END max_depth=5, max_features=10, min_samples_split=15, n_estimators=100; total time=   0.2s\n",
      "[CV] END max_depth=5, max_features=10, min_samples_split=15, n_estimators=100; total time=   0.2s\n",
      "[CV] END max_depth=8, max_features=5, min_samples_split=15, n_estimators=500; total time=   1.1s\n",
      "[CV] END max_depth=8, max_features=5, min_samples_split=15, n_estimators=500; total time=   1.1s\n",
      "[CV] END max_depth=8, max_features=5, min_samples_split=15, n_estimators=500; total time=   1.2s\n",
      "[CV] END max_depth=10, max_features=10, min_samples_split=8, n_estimators=100; total time=   0.3s\n",
      "[CV] END max_depth=10, max_features=10, min_samples_split=8, n_estimators=100; total time=   0.3s\n",
      "[CV] END max_depth=10, max_features=10, min_samples_split=8, n_estimators=100; total time=   0.3s\n",
      "[CV] END max_depth=10, max_features=5, min_samples_split=8, n_estimators=200; total time=   0.5s\n",
      "[CV] END max_depth=10, max_features=5, min_samples_split=8, n_estimators=200; total time=   0.5s\n",
      "[CV] END max_depth=10, max_features=5, min_samples_split=8, n_estimators=200; total time=   0.5s\n",
      "[CV] END max_depth=10, max_features=10, min_samples_split=15, n_estimators=200; total time=   0.8s\n",
      "[CV] END max_depth=10, max_features=10, min_samples_split=15, n_estimators=200; total time=   0.8s\n",
      "[CV] END max_depth=10, max_features=10, min_samples_split=15, n_estimators=200; total time=   0.7s\n",
      "[CV] END max_depth=10, max_features=7, min_samples_split=8, n_estimators=200; total time=   0.7s\n",
      "[CV] END max_depth=10, max_features=7, min_samples_split=8, n_estimators=200; total time=   0.6s\n",
      "[CV] END max_depth=10, max_features=7, min_samples_split=8, n_estimators=200; total time=   0.6s\n",
      "[CV] END max_depth=15, max_features=5, min_samples_split=15, n_estimators=200; total time=   0.5s\n",
      "[CV] END max_depth=15, max_features=5, min_samples_split=15, n_estimators=200; total time=   0.6s\n",
      "[CV] END max_depth=15, max_features=5, min_samples_split=15, n_estimators=200; total time=   0.5s\n",
      "[CV] END max_depth=5, max_features=5, min_samples_split=15, n_estimators=200; total time=   0.3s\n",
      "[CV] END max_depth=5, max_features=5, min_samples_split=15, n_estimators=200; total time=   0.3s\n",
      "[CV] END max_depth=5, max_features=5, min_samples_split=15, n_estimators=200; total time=   0.3s\n",
      "[CV] END max_depth=8, max_features=5, min_samples_split=2, n_estimators=200; total time=   0.4s\n",
      "[CV] END max_depth=8, max_features=5, min_samples_split=2, n_estimators=200; total time=   0.4s\n",
      "[CV] END max_depth=8, max_features=5, min_samples_split=2, n_estimators=200; total time=   0.4s\n",
      "[CV] END max_depth=8, max_features=5, min_samples_split=8, n_estimators=500; total time=   1.2s\n",
      "[CV] END max_depth=8, max_features=5, min_samples_split=8, n_estimators=500; total time=   1.2s\n",
      "[CV] END max_depth=8, max_features=5, min_samples_split=8, n_estimators=500; total time=   1.2s\n"
     ]
    }
   ],
   "source": [
    "# Initialize an empty dictionary to store the RandomizedSearchCV objects\n",
    "model_params = {}\n",
    "\n",
    "# Iterate through each model, its instance, and hyperparameter grid\n",
    "for name,model,params in random_cv:\n",
    "    random = RandomizedSearchCV(\n",
    "        estimator=model,\n",
    "        param_distributions=params,\n",
    "        n_iter=100,\n",
    "        cv=3,\n",
    "        verbose=2\n",
    "    )\n",
    "\n",
    "    # Fit the RandomizedSearchCV objects on the training data\n",
    "    random.fit(X_train,y_train)\n",
    "    # Store the best parameters found by RandomizedSearchCV for each model\n",
    "    model_params[name] = random.best_params_\n",
    "\n"
   ]
  },
  {
   "cell_type": "code",
   "execution_count": null,
   "metadata": {},
   "outputs": [
    {
     "name": "stdout",
     "output_type": "stream",
     "text": [
      "{'n_neighbors': 2}\n",
      "{'n_estimators': 500, 'min_samples_split': 2, 'max_features': 10, 'max_depth': 15}\n"
     ]
    }
   ],
   "source": [
    "# Print the best parameters for each model\n",
    "for model in model_params:\n",
    "    print(model_params[model])"
   ]
  },
  {
   "cell_type": "code",
   "execution_count": null,
   "metadata": {},
   "outputs": [
    {
     "data": {
      "text/plain": [
       "{'KNN': {'n_neighbors': 2},\n",
       " 'RF': {'n_estimators': 500,\n",
       "  'min_samples_split': 2,\n",
       "  'max_features': 10,\n",
       "  'max_depth': 15}}"
      ]
     },
     "execution_count": 50,
     "metadata": {},
     "output_type": "execute_result"
    }
   ],
   "source": [
    "model_params"
   ]
  },
  {
   "cell_type": "markdown",
   "metadata": {},
   "source": [
    "# Retraining the Model with best Parameters"
   ]
  },
  {
   "cell_type": "code",
   "execution_count": null,
   "metadata": {},
   "outputs": [
    {
     "name": "stdout",
     "output_type": "stream",
     "text": [
      "RF\n",
      "Model Performance for Train Data\n",
      "accuracy_score: 1.0\n",
      "f1_score: 1.0\n",
      "\n",
      "Model Performance for Test Data\n",
      "accuracy_score: 0.9768421052631578\n",
      "f1_score: 0.9781312127236581\n",
      "**************************************************\n"
     ]
    }
   ],
   "source": [
    "models = {\n",
    "    \"RF\":RandomForestClassifier(n_estimators=100,\n",
    "  min_samples_split=2,\n",
    "  max_features=10,\n",
    "  max_depth=15)\n",
    "}\n",
    "\n",
    "for i in range(len(list(models))):\n",
    "    model = list(models.values())[i]\n",
    "    model.fit(X_train,y_train)\n",
    "\n",
    "    y_train_pred = model.predict(X_train)\n",
    "    y_test_pred = model.predict(X_test)\n",
    "\n",
    "    model_train_accuracy = accuracy_score(y_train,y_train_pred)\n",
    "    model_train_f1 = f1_score(y_train,y_train_pred)\n",
    "\n",
    "    model_test_accuracy = accuracy_score(y_test,y_test_pred)\n",
    "    model_test_f1 = f1_score(y_test,y_test_pred)\n",
    "\n",
    "    print(list(models.keys())[i])\n",
    "\n",
    "    print(\"Model Performance for Train Data\")\n",
    "    \n",
    "    print(\"accuracy_score:\",model_train_accuracy)\n",
    "    print(\"f1_score:\",model_train_f1)\n",
    "\n",
    "    print()\n",
    "\n",
    "    print(\"Model Performance for Test Data\")\n",
    "    \n",
    "    print(\"accuracy_score:\",model_test_accuracy)\n",
    "    print(\"f1_score:\",model_test_f1)\n",
    "\n",
    "    print(\"*\" * 50)"
   ]
  },
  {
   "cell_type": "markdown",
   "metadata": {},
   "source": [
    "# Cross Validation for Furthur Evaluation"
   ]
  },
  {
   "cell_type": "code",
   "execution_count": null,
   "metadata": {},
   "outputs": [],
   "source": [
    "from sklearn.model_selection import cross_val_score,StratifiedKFold\n",
    "skfold = StratifiedKFold(n_splits= 10,shuffle= True,random_state= 42)"
   ]
  },
  {
   "cell_type": "code",
   "execution_count": null,
   "metadata": {},
   "outputs": [
    {
     "name": "stdout",
     "output_type": "stream",
     "text": [
      "Random Forest Classifier CV Mean Accuarcy Score is 91.09327292425883\n"
     ]
    }
   ],
   "source": [
    "rf_cv_result = cross_val_score(RandomForestClassifier(n_estimators=100,min_samples_split=2,\n",
    "  max_features=10,max_depth=15), X_test, y_test, cv=skfold,scoring=\"accuracy\",n_jobs=-1)\n",
    "\n",
    "rf_cv = rf_cv_result.mean()*100\n",
    "print('Random Forest Classifier CV Mean Accuarcy Score is {}'.format(rf_cv))"
   ]
  },
  {
   "cell_type": "code",
   "execution_count": null,
   "metadata": {},
   "outputs": [],
   "source": [
    "from sklearn.metrics import classification_report"
   ]
  },
  {
   "cell_type": "code",
   "execution_count": null,
   "metadata": {},
   "outputs": [],
   "source": [
    "best_model = RandomForestClassifier(n_estimators=100,min_samples_split=2,max_features=10,max_depth=15)\n",
    "best_model.fit(X_train,y_train)\n",
    "y_pred = best_model.predict(X_test)\n",
    "score = accuracy_score(y_test,y_pred)\n",
    "cr = classification_report(y_test,y_pred)\n"
   ]
  },
  {
   "cell_type": "code",
   "execution_count": null,
   "metadata": {},
   "outputs": [
    {
     "name": "stdout",
     "output_type": "stream",
     "text": [
      "              precision    recall  f1-score   support\n",
      "\n",
      "           0       0.98      0.97      0.97       673\n",
      "           1       0.97      0.98      0.98       752\n",
      "\n",
      "    accuracy                           0.98      1425\n",
      "   macro avg       0.98      0.98      0.98      1425\n",
      "weighted avg       0.98      0.98      0.98      1425\n",
      "\n"
     ]
    }
   ],
   "source": [
    "print(cr)"
   ]
  },
  {
   "cell_type": "markdown",
   "metadata": {},
   "source": [
    "# Save the Model using Pickling"
   ]
  },
  {
   "cell_type": "code",
   "execution_count": null,
   "metadata": {},
   "outputs": [],
   "source": [
    "import pickle\n",
    " \n",
    "# Save the trained model as a pickle file.\n",
    "pickle.dump(best_model, open('trained_model.pkl', 'wb'))"
   ]
  },
  {
   "cell_type": "code",
   "execution_count": null,
   "metadata": {},
   "outputs": [],
   "source": []
  }
 ],
 "metadata": {
  "kernelspec": {
   "display_name": "Python 3",
   "language": "python",
   "name": "python3"
  },
  "language_info": {
   "codemirror_mode": {
    "name": "ipython",
    "version": 3
   },
   "file_extension": ".py",
   "mimetype": "text/x-python",
   "name": "python",
   "nbconvert_exporter": "python",
   "pygments_lexer": "ipython3",
   "version": "3.10.14"
  }
 },
 "nbformat": 4,
 "nbformat_minor": 2
}
